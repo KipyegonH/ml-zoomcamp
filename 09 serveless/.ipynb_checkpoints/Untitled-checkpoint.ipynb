{
 "cells": [
  {
   "cell_type": "code",
   "execution_count": 51,
   "id": "29955d87",
   "metadata": {},
   "outputs": [],
   "source": [
    "!python -m venv venv\n"
   ]
  },
  {
   "cell_type": "code",
   "execution_count": 52,
   "id": "3d7ceea6",
   "metadata": {},
   "outputs": [
    {
     "name": "stdout",
     "output_type": "stream",
     "text": [
      "Requirement already satisfied: pillow in c:\\users\\hillarik\\appdata\\local\\programs\\python\\python311\\lib\\site-packages (10.2.0)\n",
      "Requirement already satisfied: numpy in c:\\users\\hillarik\\appdata\\local\\programs\\python\\python311\\lib\\site-packages (1.26.4)\n",
      "Requirement already satisfied: tensorflow==2.14.0 in c:\\users\\hillarik\\appdata\\local\\programs\\python\\python311\\lib\\site-packages (2.14.0)\n",
      "Collecting tensorflow-intel==2.14.0 (from tensorflow==2.14.0)\n",
      "  Using cached tensorflow_intel-2.14.0-cp311-cp311-win_amd64.whl.metadata (4.8 kB)\n",
      "Requirement already satisfied: absl-py>=1.0.0 in c:\\users\\hillarik\\appdata\\local\\programs\\python\\python311\\lib\\site-packages (from tensorflow-intel==2.14.0->tensorflow==2.14.0) (2.1.0)\n",
      "Requirement already satisfied: astunparse>=1.6.0 in c:\\users\\hillarik\\appdata\\local\\programs\\python\\python311\\lib\\site-packages (from tensorflow-intel==2.14.0->tensorflow==2.14.0) (1.6.3)\n",
      "Requirement already satisfied: flatbuffers>=23.5.26 in c:\\users\\hillarik\\appdata\\local\\programs\\python\\python311\\lib\\site-packages (from tensorflow-intel==2.14.0->tensorflow==2.14.0) (24.3.25)\n",
      "Requirement already satisfied: gast!=0.5.0,!=0.5.1,!=0.5.2,>=0.2.1 in c:\\users\\hillarik\\appdata\\local\\programs\\python\\python311\\lib\\site-packages (from tensorflow-intel==2.14.0->tensorflow==2.14.0) (0.6.0)\n",
      "Requirement already satisfied: google-pasta>=0.1.1 in c:\\users\\hillarik\\appdata\\local\\programs\\python\\python311\\lib\\site-packages (from tensorflow-intel==2.14.0->tensorflow==2.14.0) (0.2.0)\n",
      "Requirement already satisfied: h5py>=2.9.0 in c:\\users\\hillarik\\appdata\\local\\programs\\python\\python311\\lib\\site-packages (from tensorflow-intel==2.14.0->tensorflow==2.14.0) (3.12.1)\n",
      "Requirement already satisfied: libclang>=13.0.0 in c:\\users\\hillarik\\appdata\\local\\programs\\python\\python311\\lib\\site-packages (from tensorflow-intel==2.14.0->tensorflow==2.14.0) (18.1.1)\n",
      "Collecting ml-dtypes==0.2.0 (from tensorflow-intel==2.14.0->tensorflow==2.14.0)\n",
      "  Using cached ml_dtypes-0.2.0-cp311-cp311-win_amd64.whl.metadata (20 kB)\n",
      "Requirement already satisfied: opt-einsum>=2.3.2 in c:\\users\\hillarik\\appdata\\local\\programs\\python\\python311\\lib\\site-packages (from tensorflow-intel==2.14.0->tensorflow==2.14.0) (3.4.0)\n",
      "Requirement already satisfied: packaging in c:\\users\\hillarik\\appdata\\local\\programs\\python\\python311\\lib\\site-packages (from tensorflow-intel==2.14.0->tensorflow==2.14.0) (24.1)\n",
      "Requirement already satisfied: protobuf!=4.21.0,!=4.21.1,!=4.21.2,!=4.21.3,!=4.21.4,!=4.21.5,<5.0.0dev,>=3.20.3 in c:\\users\\hillarik\\appdata\\local\\programs\\python\\python311\\lib\\site-packages (from tensorflow-intel==2.14.0->tensorflow==2.14.0) (4.25.5)\n",
      "Requirement already satisfied: setuptools in c:\\users\\hillarik\\appdata\\local\\programs\\python\\python311\\lib\\site-packages (from tensorflow-intel==2.14.0->tensorflow==2.14.0) (75.1.0)\n",
      "Requirement already satisfied: six>=1.12.0 in c:\\users\\hillarik\\appdata\\local\\programs\\python\\python311\\lib\\site-packages (from tensorflow-intel==2.14.0->tensorflow==2.14.0) (1.16.0)\n",
      "Requirement already satisfied: termcolor>=1.1.0 in c:\\users\\hillarik\\appdata\\local\\programs\\python\\python311\\lib\\site-packages (from tensorflow-intel==2.14.0->tensorflow==2.14.0) (2.5.0)\n",
      "Requirement already satisfied: typing-extensions>=3.6.6 in c:\\users\\hillarik\\appdata\\local\\programs\\python\\python311\\lib\\site-packages (from tensorflow-intel==2.14.0->tensorflow==2.14.0) (4.12.2)\n",
      "Requirement already satisfied: wrapt<1.15,>=1.11.0 in c:\\users\\hillarik\\appdata\\local\\programs\\python\\python311\\lib\\site-packages (from tensorflow-intel==2.14.0->tensorflow==2.14.0) (1.14.1)\n",
      "Requirement already satisfied: tensorflow-io-gcs-filesystem>=0.23.1 in c:\\users\\hillarik\\appdata\\local\\programs\\python\\python311\\lib\\site-packages (from tensorflow-intel==2.14.0->tensorflow==2.14.0) (0.31.0)\n",
      "Requirement already satisfied: grpcio<2.0,>=1.24.3 in c:\\users\\hillarik\\appdata\\local\\programs\\python\\python311\\lib\\site-packages (from tensorflow-intel==2.14.0->tensorflow==2.14.0) (1.68.1)\n",
      "Collecting tensorboard<2.15,>=2.14 (from tensorflow-intel==2.14.0->tensorflow==2.14.0)\n",
      "  Using cached tensorboard-2.14.1-py3-none-any.whl.metadata (1.7 kB)\n",
      "Requirement already satisfied: tensorflow-estimator<2.15,>=2.14.0 in c:\\users\\hillarik\\appdata\\local\\programs\\python\\python311\\lib\\site-packages (from tensorflow-intel==2.14.0->tensorflow==2.14.0) (2.14.0)\n",
      "Collecting keras<2.15,>=2.14.0 (from tensorflow-intel==2.14.0->tensorflow==2.14.0)\n",
      "  Using cached keras-2.14.0-py3-none-any.whl.metadata (2.4 kB)\n",
      "Requirement already satisfied: wheel<1.0,>=0.23.0 in c:\\users\\hillarik\\appdata\\local\\programs\\python\\python311\\lib\\site-packages (from astunparse>=1.6.0->tensorflow-intel==2.14.0->tensorflow==2.14.0) (0.45.1)\n",
      "Requirement already satisfied: google-auth<3,>=1.6.3 in c:\\users\\hillarik\\appdata\\local\\programs\\python\\python311\\lib\\site-packages (from tensorboard<2.15,>=2.14->tensorflow-intel==2.14.0->tensorflow==2.14.0) (2.36.0)\n",
      "Requirement already satisfied: google-auth-oauthlib<1.1,>=0.5 in c:\\users\\hillarik\\appdata\\local\\programs\\python\\python311\\lib\\site-packages (from tensorboard<2.15,>=2.14->tensorflow-intel==2.14.0->tensorflow==2.14.0) (1.0.0)\n",
      "Requirement already satisfied: markdown>=2.6.8 in c:\\users\\hillarik\\appdata\\local\\programs\\python\\python311\\lib\\site-packages (from tensorboard<2.15,>=2.14->tensorflow-intel==2.14.0->tensorflow==2.14.0) (3.7)\n",
      "Requirement already satisfied: requests<3,>=2.21.0 in c:\\users\\hillarik\\appdata\\local\\programs\\python\\python311\\lib\\site-packages (from tensorboard<2.15,>=2.14->tensorflow-intel==2.14.0->tensorflow==2.14.0) (2.32.3)\n",
      "Requirement already satisfied: tensorboard-data-server<0.8.0,>=0.7.0 in c:\\users\\hillarik\\appdata\\local\\programs\\python\\python311\\lib\\site-packages (from tensorboard<2.15,>=2.14->tensorflow-intel==2.14.0->tensorflow==2.14.0) (0.7.2)\n",
      "Requirement already satisfied: werkzeug>=1.0.1 in c:\\users\\hillarik\\appdata\\local\\programs\\python\\python311\\lib\\site-packages (from tensorboard<2.15,>=2.14->tensorflow-intel==2.14.0->tensorflow==2.14.0) (3.0.6)\n",
      "Requirement already satisfied: cachetools<6.0,>=2.0.0 in c:\\users\\hillarik\\appdata\\local\\programs\\python\\python311\\lib\\site-packages (from google-auth<3,>=1.6.3->tensorboard<2.15,>=2.14->tensorflow-intel==2.14.0->tensorflow==2.14.0) (5.5.0)\n",
      "Requirement already satisfied: pyasn1-modules>=0.2.1 in c:\\users\\hillarik\\appdata\\local\\programs\\python\\python311\\lib\\site-packages (from google-auth<3,>=1.6.3->tensorboard<2.15,>=2.14->tensorflow-intel==2.14.0->tensorflow==2.14.0) (0.4.1)\n",
      "Requirement already satisfied: rsa<5,>=3.1.4 in c:\\users\\hillarik\\appdata\\local\\programs\\python\\python311\\lib\\site-packages (from google-auth<3,>=1.6.3->tensorboard<2.15,>=2.14->tensorflow-intel==2.14.0->tensorflow==2.14.0) (4.9)\n",
      "Requirement already satisfied: requests-oauthlib>=0.7.0 in c:\\users\\hillarik\\appdata\\local\\programs\\python\\python311\\lib\\site-packages (from google-auth-oauthlib<1.1,>=0.5->tensorboard<2.15,>=2.14->tensorflow-intel==2.14.0->tensorflow==2.14.0) (2.0.0)\n",
      "Requirement already satisfied: charset-normalizer<4,>=2 in c:\\users\\hillarik\\appdata\\local\\programs\\python\\python311\\lib\\site-packages (from requests<3,>=2.21.0->tensorboard<2.15,>=2.14->tensorflow-intel==2.14.0->tensorflow==2.14.0) (3.3.2)\n",
      "Requirement already satisfied: idna<4,>=2.5 in c:\\users\\hillarik\\appdata\\local\\programs\\python\\python311\\lib\\site-packages (from requests<3,>=2.21.0->tensorboard<2.15,>=2.14->tensorflow-intel==2.14.0->tensorflow==2.14.0) (3.10)\n",
      "Requirement already satisfied: urllib3<3,>=1.21.1 in c:\\users\\hillarik\\appdata\\local\\programs\\python\\python311\\lib\\site-packages (from requests<3,>=2.21.0->tensorboard<2.15,>=2.14->tensorflow-intel==2.14.0->tensorflow==2.14.0) (2.2.3)\n",
      "Requirement already satisfied: certifi>=2017.4.17 in c:\\users\\hillarik\\appdata\\local\\programs\\python\\python311\\lib\\site-packages (from requests<3,>=2.21.0->tensorboard<2.15,>=2.14->tensorflow-intel==2.14.0->tensorflow==2.14.0) (2024.8.30)\n",
      "Requirement already satisfied: MarkupSafe>=2.1.1 in c:\\users\\hillarik\\appdata\\local\\programs\\python\\python311\\lib\\site-packages (from werkzeug>=1.0.1->tensorboard<2.15,>=2.14->tensorflow-intel==2.14.0->tensorflow==2.14.0) (2.1.5)\n",
      "Requirement already satisfied: pyasn1<0.7.0,>=0.4.6 in c:\\users\\hillarik\\appdata\\local\\programs\\python\\python311\\lib\\site-packages (from pyasn1-modules>=0.2.1->google-auth<3,>=1.6.3->tensorboard<2.15,>=2.14->tensorflow-intel==2.14.0->tensorflow==2.14.0) (0.6.1)\n",
      "Requirement already satisfied: oauthlib>=3.0.0 in c:\\users\\hillarik\\appdata\\local\\programs\\python\\python311\\lib\\site-packages (from requests-oauthlib>=0.7.0->google-auth-oauthlib<1.1,>=0.5->tensorboard<2.15,>=2.14->tensorflow-intel==2.14.0->tensorflow==2.14.0) (3.2.2)\n",
      "Using cached tensorflow_intel-2.14.0-cp311-cp311-win_amd64.whl (284.2 MB)\n",
      "Using cached ml_dtypes-0.2.0-cp311-cp311-win_amd64.whl (938 kB)\n",
      "Using cached keras-2.14.0-py3-none-any.whl (1.7 MB)\n",
      "Using cached tensorboard-2.14.1-py3-none-any.whl (5.5 MB)\n",
      "Installing collected packages: ml-dtypes, keras, tensorboard, tensorflow-intel\n",
      "  Attempting uninstall: ml-dtypes\n",
      "    Found existing installation: ml-dtypes 0.4.1\n",
      "    Uninstalling ml-dtypes-0.4.1:\n",
      "      Successfully uninstalled ml-dtypes-0.4.1\n",
      "  Attempting uninstall: keras\n",
      "    Found existing installation: keras 3.7.0\n",
      "    Uninstalling keras-3.7.0:\n",
      "      Successfully uninstalled keras-3.7.0\n",
      "  Rolling back uninstall of keras\n",
      "  Moving to c:\\users\\hillarik\\appdata\\local\\programs\\python\\python311\\lib\\site-packages\\keras-3.7.0.dist-info\\\n",
      "   from C:\\Users\\hillarik\\AppData\\Local\\Programs\\Python\\Python311\\Lib\\site-packages\\~eras-3.7.0.dist-info\n",
      "  Moving to c:\\users\\hillarik\\appdata\\local\\programs\\python\\python311\\lib\\site-packages\\keras\\\n",
      "   from C:\\Users\\hillarik\\AppData\\Local\\Programs\\Python\\Python311\\Lib\\site-packages\\~eras\n"
     ]
    },
    {
     "name": "stderr",
     "output_type": "stream",
     "text": [
      "WARNING: Ignoring invalid distribution ~ensorflow-intel (C:\\Users\\hillarik\\AppData\\Local\\Programs\\Python\\Python311\\Lib\\site-packages)\n",
      "WARNING: Ignoring invalid distribution ~otebook (C:\\Users\\hillarik\\AppData\\Local\\Programs\\Python\\Python311\\Lib\\site-packages)\n",
      "WARNING: Ignoring invalid distribution ~ensorflow-intel (C:\\Users\\hillarik\\AppData\\Local\\Programs\\Python\\Python311\\Lib\\site-packages)\n",
      "WARNING: Ignoring invalid distribution ~otebook (C:\\Users\\hillarik\\AppData\\Local\\Programs\\Python\\Python311\\Lib\\site-packages)\n",
      "ERROR: Could not install packages due to an OSError: [Errno 2] No such file or directory: 'C:\\\\Users\\\\hillarik\\\\AppData\\\\Local\\\\Programs\\\\Python\\\\Python311\\\\Lib\\\\site-packages\\\\keras-2.14.0.dist-info\\\\INSTALLER8la5ols8.tmp'\n",
      "\n"
     ]
    },
    {
     "name": "stdout",
     "output_type": "stream",
     "text": [
      "Requirement already satisfied: tensorflow in c:\\users\\hillarik\\appdata\\local\\programs\\python\\python311\\lib\\site-packages (2.14.0)\n",
      "Collecting tensorflow\n",
      "  Using cached tensorflow-2.18.0-cp311-cp311-win_amd64.whl.metadata (3.3 kB)\n",
      "Requirement already satisfied: keras in c:\\users\\hillarik\\appdata\\local\\programs\\python\\python311\\lib\\site-packages (3.7.0)\n",
      "Requirement already satisfied: tensorflow-intel==2.18.0 in c:\\users\\hillarik\\appdata\\local\\programs\\python\\python311\\lib\\site-packages (from tensorflow) (2.18.0)\n",
      "Requirement already satisfied: absl-py>=1.0.0 in c:\\users\\hillarik\\appdata\\local\\programs\\python\\python311\\lib\\site-packages (from tensorflow-intel==2.18.0->tensorflow) (2.1.0)\n",
      "Requirement already satisfied: astunparse>=1.6.0 in c:\\users\\hillarik\\appdata\\local\\programs\\python\\python311\\lib\\site-packages (from tensorflow-intel==2.18.0->tensorflow) (1.6.3)\n",
      "Requirement already satisfied: flatbuffers>=24.3.25 in c:\\users\\hillarik\\appdata\\local\\programs\\python\\python311\\lib\\site-packages (from tensorflow-intel==2.18.0->tensorflow) (24.3.25)\n",
      "Requirement already satisfied: gast!=0.5.0,!=0.5.1,!=0.5.2,>=0.2.1 in c:\\users\\hillarik\\appdata\\local\\programs\\python\\python311\\lib\\site-packages (from tensorflow-intel==2.18.0->tensorflow) (0.6.0)\n",
      "Requirement already satisfied: google-pasta>=0.1.1 in c:\\users\\hillarik\\appdata\\local\\programs\\python\\python311\\lib\\site-packages (from tensorflow-intel==2.18.0->tensorflow) (0.2.0)\n",
      "Requirement already satisfied: libclang>=13.0.0 in c:\\users\\hillarik\\appdata\\local\\programs\\python\\python311\\lib\\site-packages (from tensorflow-intel==2.18.0->tensorflow) (18.1.1)\n",
      "Requirement already satisfied: opt-einsum>=2.3.2 in c:\\users\\hillarik\\appdata\\local\\programs\\python\\python311\\lib\\site-packages (from tensorflow-intel==2.18.0->tensorflow) (3.4.0)\n",
      "Requirement already satisfied: packaging in c:\\users\\hillarik\\appdata\\local\\programs\\python\\python311\\lib\\site-packages (from tensorflow-intel==2.18.0->tensorflow) (24.1)\n",
      "Requirement already satisfied: protobuf!=4.21.0,!=4.21.1,!=4.21.2,!=4.21.3,!=4.21.4,!=4.21.5,<6.0.0dev,>=3.20.3 in c:\\users\\hillarik\\appdata\\local\\programs\\python\\python311\\lib\\site-packages (from tensorflow-intel==2.18.0->tensorflow) (4.25.5)\n",
      "Requirement already satisfied: requests<3,>=2.21.0 in c:\\users\\hillarik\\appdata\\local\\programs\\python\\python311\\lib\\site-packages (from tensorflow-intel==2.18.0->tensorflow) (2.32.3)\n",
      "Requirement already satisfied: setuptools in c:\\users\\hillarik\\appdata\\local\\programs\\python\\python311\\lib\\site-packages (from tensorflow-intel==2.18.0->tensorflow) (75.1.0)\n",
      "Requirement already satisfied: six>=1.12.0 in c:\\users\\hillarik\\appdata\\local\\programs\\python\\python311\\lib\\site-packages (from tensorflow-intel==2.18.0->tensorflow) (1.16.0)\n",
      "Requirement already satisfied: termcolor>=1.1.0 in c:\\users\\hillarik\\appdata\\local\\programs\\python\\python311\\lib\\site-packages (from tensorflow-intel==2.18.0->tensorflow) (2.5.0)\n",
      "Requirement already satisfied: typing-extensions>=3.6.6 in c:\\users\\hillarik\\appdata\\local\\programs\\python\\python311\\lib\\site-packages (from tensorflow-intel==2.18.0->tensorflow) (4.12.2)\n",
      "Requirement already satisfied: wrapt>=1.11.0 in c:\\users\\hillarik\\appdata\\local\\programs\\python\\python311\\lib\\site-packages (from tensorflow-intel==2.18.0->tensorflow) (1.14.1)\n",
      "Requirement already satisfied: grpcio<2.0,>=1.24.3 in c:\\users\\hillarik\\appdata\\local\\programs\\python\\python311\\lib\\site-packages (from tensorflow-intel==2.18.0->tensorflow) (1.68.1)\n",
      "Requirement already satisfied: tensorboard<2.19,>=2.18 in c:\\users\\hillarik\\appdata\\local\\programs\\python\\python311\\lib\\site-packages (from tensorflow-intel==2.18.0->tensorflow) (2.18.0)\n",
      "Requirement already satisfied: numpy<2.1.0,>=1.26.0 in c:\\users\\hillarik\\appdata\\local\\programs\\python\\python311\\lib\\site-packages (from tensorflow-intel==2.18.0->tensorflow) (1.26.4)\n",
      "Requirement already satisfied: h5py>=3.11.0 in c:\\users\\hillarik\\appdata\\local\\programs\\python\\python311\\lib\\site-packages (from tensorflow-intel==2.18.0->tensorflow) (3.12.1)\n",
      "Requirement already satisfied: ml-dtypes<0.5.0,>=0.4.0 in c:\\users\\hillarik\\appdata\\local\\programs\\python\\python311\\lib\\site-packages (from tensorflow-intel==2.18.0->tensorflow) (0.4.1)\n",
      "Requirement already satisfied: tensorflow-io-gcs-filesystem>=0.23.1 in c:\\users\\hillarik\\appdata\\local\\programs\\python\\python311\\lib\\site-packages (from tensorflow-intel==2.18.0->tensorflow) (0.31.0)\n",
      "Requirement already satisfied: rich in c:\\users\\hillarik\\appdata\\local\\programs\\python\\python311\\lib\\site-packages (from keras) (13.9.4)\n",
      "Requirement already satisfied: namex in c:\\users\\hillarik\\appdata\\local\\programs\\python\\python311\\lib\\site-packages (from keras) (0.0.8)\n",
      "Requirement already satisfied: optree in c:\\users\\hillarik\\appdata\\local\\programs\\python\\python311\\lib\\site-packages (from keras) (0.13.1)\n",
      "Requirement already satisfied: markdown-it-py>=2.2.0 in c:\\users\\hillarik\\appdata\\local\\programs\\python\\python311\\lib\\site-packages (from rich->keras) (3.0.0)\n",
      "Requirement already satisfied: pygments<3.0.0,>=2.13.0 in c:\\users\\hillarik\\appdata\\local\\programs\\python\\python311\\lib\\site-packages (from rich->keras) (2.18.0)\n",
      "Requirement already satisfied: wheel<1.0,>=0.23.0 in c:\\users\\hillarik\\appdata\\local\\programs\\python\\python311\\lib\\site-packages (from astunparse>=1.6.0->tensorflow-intel==2.18.0->tensorflow) (0.45.1)\n",
      "Requirement already satisfied: mdurl~=0.1 in c:\\users\\hillarik\\appdata\\local\\programs\\python\\python311\\lib\\site-packages (from markdown-it-py>=2.2.0->rich->keras) (0.1.2)\n",
      "Requirement already satisfied: charset-normalizer<4,>=2 in c:\\users\\hillarik\\appdata\\local\\programs\\python\\python311\\lib\\site-packages (from requests<3,>=2.21.0->tensorflow-intel==2.18.0->tensorflow) (3.3.2)\n",
      "Requirement already satisfied: idna<4,>=2.5 in c:\\users\\hillarik\\appdata\\local\\programs\\python\\python311\\lib\\site-packages (from requests<3,>=2.21.0->tensorflow-intel==2.18.0->tensorflow) (3.10)\n",
      "Requirement already satisfied: urllib3<3,>=1.21.1 in c:\\users\\hillarik\\appdata\\local\\programs\\python\\python311\\lib\\site-packages (from requests<3,>=2.21.0->tensorflow-intel==2.18.0->tensorflow) (2.2.3)\n",
      "Requirement already satisfied: certifi>=2017.4.17 in c:\\users\\hillarik\\appdata\\local\\programs\\python\\python311\\lib\\site-packages (from requests<3,>=2.21.0->tensorflow-intel==2.18.0->tensorflow) (2024.8.30)\n",
      "Requirement already satisfied: markdown>=2.6.8 in c:\\users\\hillarik\\appdata\\local\\programs\\python\\python311\\lib\\site-packages (from tensorboard<2.19,>=2.18->tensorflow-intel==2.18.0->tensorflow) (3.7)\n",
      "Requirement already satisfied: tensorboard-data-server<0.8.0,>=0.7.0 in c:\\users\\hillarik\\appdata\\local\\programs\\python\\python311\\lib\\site-packages (from tensorboard<2.19,>=2.18->tensorflow-intel==2.18.0->tensorflow) (0.7.2)\n",
      "Requirement already satisfied: werkzeug>=1.0.1 in c:\\users\\hillarik\\appdata\\local\\programs\\python\\python311\\lib\\site-packages (from tensorboard<2.19,>=2.18->tensorflow-intel==2.18.0->tensorflow) (3.0.6)\n",
      "Requirement already satisfied: MarkupSafe>=2.1.1 in c:\\users\\hillarik\\appdata\\local\\programs\\python\\python311\\lib\\site-packages (from werkzeug>=1.0.1->tensorboard<2.19,>=2.18->tensorflow-intel==2.18.0->tensorflow) (2.1.5)\n",
      "Using cached tensorflow-2.18.0-cp311-cp311-win_amd64.whl (7.5 kB)\n",
      "Installing collected packages: tensorflow\n",
      "  Attempting uninstall: tensorflow\n",
      "    Found existing installation: tensorflow 2.14.0\n",
      "    Uninstalling tensorflow-2.14.0:\n",
      "      Successfully uninstalled tensorflow-2.14.0\n",
      "Successfully installed tensorflow-2.18.0\n"
     ]
    },
    {
     "name": "stderr",
     "output_type": "stream",
     "text": [
      "WARNING: Ignoring invalid distribution ~ensorflow-intel (C:\\Users\\hillarik\\AppData\\Local\\Programs\\Python\\Python311\\Lib\\site-packages)\n",
      "WARNING: Ignoring invalid distribution ~eras (C:\\Users\\hillarik\\AppData\\Local\\Programs\\Python\\Python311\\Lib\\site-packages)\n",
      "WARNING: Ignoring invalid distribution ~otebook (C:\\Users\\hillarik\\AppData\\Local\\Programs\\Python\\Python311\\Lib\\site-packages)\n",
      "WARNING: Ignoring invalid distribution ~ensorflow-intel (C:\\Users\\hillarik\\AppData\\Local\\Programs\\Python\\Python311\\Lib\\site-packages)\n",
      "WARNING: Ignoring invalid distribution ~eras (C:\\Users\\hillarik\\AppData\\Local\\Programs\\Python\\Python311\\Lib\\site-packages)\n",
      "WARNING: Ignoring invalid distribution ~otebook (C:\\Users\\hillarik\\AppData\\Local\\Programs\\Python\\Python311\\Lib\\site-packages)\n",
      "WARNING: Ignoring invalid distribution ~ensorflow-intel (C:\\Users\\hillarik\\AppData\\Local\\Programs\\Python\\Python311\\Lib\\site-packages)\n",
      "WARNING: Ignoring invalid distribution ~eras (C:\\Users\\hillarik\\AppData\\Local\\Programs\\Python\\Python311\\Lib\\site-packages)\n",
      "WARNING: Ignoring invalid distribution ~otebook (C:\\Users\\hillarik\\AppData\\Local\\Programs\\Python\\Python311\\Lib\\site-packages)\n"
     ]
    }
   ],
   "source": [
    "!pip install pillow numpy tensorflow==2.14.0\n",
    "!pip install --upgrade tensorflow keras\n",
    "\n",
    "\n"
   ]
  },
  {
   "cell_type": "code",
   "execution_count": 1,
   "id": "ebe9154a",
   "metadata": {},
   "outputs": [
    {
     "name": "stdout",
     "output_type": "stream",
     "text": [
      "Downloaded model_2024_hairstyle.keras\n"
     ]
    }
   ],
   "source": [
    "import urllib.request\n",
    "\n",
    "url = \"https://github.com/alexeygrigorev/large-datasets/releases/download/hairstyle/model_2024_hairstyle.keras\"\n",
    "output_file = \"model_2024_hairstyle.keras\"\n",
    "\n",
    "urllib.request.urlretrieve(url, output_file)\n",
    "print(f\"Downloaded {output_file}\")\n"
   ]
  },
  {
   "cell_type": "code",
   "execution_count": 16,
   "id": "a0b7a64e",
   "metadata": {},
   "outputs": [],
   "source": [
    "import tensorflow as tf\n",
    "\n",
    "# Create your model\n",
    "model = tf.keras.Sequential([\n",
    "    tf.keras.layers.InputLayer(input_shape=(200, 200, 3)),\n",
    "    # Add other layers...\n",
    "])\n",
    "\n",
    "# Train your model or load pretrained weights if needed\n",
    "\n",
    "# Save the model without batch_shape\n",
    "model.save(\"hair_model_project/model_2024_hairstyle.keras\")\n"
   ]
  },
  {
   "cell_type": "code",
   "execution_count": 24,
   "id": "84ced69d",
   "metadata": {},
   "outputs": [
    {
     "name": "stdout",
     "output_type": "stream",
     "text": [
      "Model loaded successfully!\n"
     ]
    }
   ],
   "source": [
    "import tensorflow as tf\n",
    "\n",
    "# Correct file path\n",
    "model_path = r\"C:\\Users\\hillarik\\Desktop\\MLzoomcamp\\09 serveless\\.ipynb_checkpoints\\hair_model_project\\model_2024_hairstyle.keras\"\n",
    "\n",
    "# Load the Keras model\n",
    "keras_model = tf.keras.models.load_model(model_path)\n",
    "\n",
    "# Iterate through the layers and clean the configuration\n",
    "for layer in keras_model.layers:\n",
    "    # If the layer is an InputLayer, remove batch_shape if present\n",
    "    if isinstance(layer, tf.keras.layers.InputLayer):\n",
    "        layer_config = layer.get_config()\n",
    "        \n",
    "        # Check if 'batch_shape' is present and remove it\n",
    "        if 'batch_shape' in layer_config:\n",
    "            del layer_config['batch_shape']\n",
    "        \n",
    "        print(f\"Cleaned config for {layer.name}: {layer_config}\")\n",
    "\n",
    "# Confirm successful load\n",
    "print(\"Model loaded successfully!\")\n",
    "\n"
   ]
  },
  {
   "cell_type": "code",
   "execution_count": 34,
   "id": "d413131e",
   "metadata": {},
   "outputs": [
    {
     "name": "stdout",
     "output_type": "stream",
     "text": [
      "Model loaded and cleaned successfully!\n"
     ]
    }
   ],
   "source": [
    "import tensorflow as tf\n",
    "\n",
    "# Correct file path\n",
    "model_path = r\"C:\\Users\\hillarik\\Desktop\\MLzoomcamp\\09 serveless\\.ipynb_checkpoints\\hair_model_project\\model_2024_hairstyle.keras\"\n",
    "\n",
    "# Load the Keras model\n",
    "keras_model = tf.keras.models.load_model(model_path)\n",
    "\n",
    "# Iterate through the layers and clean the configuration\n",
    "for layer in keras_model.layers:\n",
    "    # If the layer is an InputLayer, remove batch_shape if present\n",
    "    if isinstance(layer, tf.keras.layers.InputLayer):\n",
    "        layer_config = layer.get_config()\n",
    "        \n",
    "        # Check if 'batch_shape' is present and remove it\n",
    "        if 'batch_shape' in layer_config:\n",
    "            del layer_config['batch_shape']\n",
    "        \n",
    "        print(f\"Cleaned config for {layer.name}: {layer_config}\")\n",
    "\n",
    "# Optionally save the cleaned model\n",
    "keras_model.save(r\"C:\\Users\\hillarik\\Desktop\\MLzoomcamp\\09 serveless\\.ipynb_checkpoints\\hair_model_project\\model_2024_hairstyle_cleaned.keras\")\n",
    "\n",
    "# Confirm successful load\n",
    "print(\"Model loaded and cleaned successfully!\")\n"
   ]
  },
  {
   "cell_type": "code",
   "execution_count": 35,
   "id": "36a89115",
   "metadata": {},
   "outputs": [
    {
     "name": "stdout",
     "output_type": "stream",
     "text": [
      "INFO:tensorflow:Assets written to: C:\\Users\\hillarik\\AppData\\Local\\Temp\\tmpyd7_f3pr\\assets\n"
     ]
    },
    {
     "name": "stderr",
     "output_type": "stream",
     "text": [
      "INFO:tensorflow:Assets written to: C:\\Users\\hillarik\\AppData\\Local\\Temp\\tmpyd7_f3pr\\assets\n"
     ]
    },
    {
     "name": "stdout",
     "output_type": "stream",
     "text": [
      "Converted model size: 0.00 MB\n"
     ]
    }
   ],
   "source": [
    "# Load the Keras model\n",
    "model_path = r\"C:\\Users\\hillarik\\Desktop\\MLzoomcamp\\09 serveless\\.ipynb_checkpoints\\hair_model_project\\model_2024_hairstyle.keras\"\n",
    "keras_model = tf.keras.models.load_model(model_path)\n",
    "\n",
    "# Convert the model to TF-Lite format\n",
    "converter = tf.lite.TFLiteConverter.from_keras_model(keras_model)\n",
    "tflite_model = converter.convert()\n",
    "\n",
    "# Save the converted model\n",
    "tflite_model_path = r\"C:\\Users\\hillarik\\Desktop\\MLzoomcamp\\09 serveless\\.ipynb_checkpoints\\hair_model_project\\model_2024_hairstyle.tflite\"\n",
    "with open(tflite_model_path, 'wb') as f:\n",
    "    f.write(tflite_model)\n",
    "\n",
    "# Print the size of the converted model\n",
    "import os\n",
    "print(f\"Converted model size: {os.path.getsize(tflite_model_path) / (1024 * 1024):.2f} MB\")\n"
   ]
  },
  {
   "cell_type": "code",
   "execution_count": 36,
   "id": "c5c29dfa",
   "metadata": {},
   "outputs": [
    {
     "name": "stdout",
     "output_type": "stream",
     "text": [
      "Model layers: 0\n",
      "INFO:tensorflow:Assets written to: C:\\Users\\hillarik\\AppData\\Local\\Temp\\tmpb3k27nqt\\assets\n"
     ]
    },
    {
     "name": "stderr",
     "output_type": "stream",
     "text": [
      "INFO:tensorflow:Assets written to: C:\\Users\\hillarik\\AppData\\Local\\Temp\\tmpb3k27nqt\\assets\n"
     ]
    },
    {
     "name": "stdout",
     "output_type": "stream",
     "text": [
      "Converted model size: 0.00 MB\n"
     ]
    }
   ],
   "source": [
    "import tensorflow as tf\n",
    "\n",
    "model_path = r\"C:\\Users\\hillarik\\Desktop\\MLzoomcamp\\09 serveless\\.ipynb_checkpoints\\hair_model_project\\model_2024_hairstyle.keras\"\n",
    "keras_model = tf.keras.models.load_model(model_path)\n",
    "\n",
    "# Check if the model is valid before conversion\n",
    "print(f\"Model layers: {len(keras_model.layers)}\")\n",
    "if keras_model.layers:\n",
    "    print(\"Model is valid!\")\n",
    "\n",
    "# Convert the model to TF-Lite\n",
    "converter = tf.lite.TFLiteConverter.from_keras_model(keras_model)\n",
    "tflite_model = converter.convert()\n",
    "\n",
    "# Save the converted model\n",
    "tflite_model_path = r\"C:\\Users\\hillarik\\Desktop\\MLzoomcamp\\09 serveless\\.ipynb_checkpoints\\hair_model_project\\model_2024_hairstyle.tflite\"\n",
    "with open(tflite_model_path, 'wb') as f:\n",
    "    f.write(tflite_model)\n",
    "\n",
    "# Print the size of the converted model\n",
    "import os\n",
    "print(f\"Converted model size: {os.path.getsize(tflite_model_path) / (1024 * 1024):.2f} MB\")\n"
   ]
  },
  {
   "cell_type": "code",
   "execution_count": 37,
   "id": "6aece56c",
   "metadata": {},
   "outputs": [
    {
     "name": "stdout",
     "output_type": "stream",
     "text": [
      "[{'name': 'serving_default_input_2:0', 'index': 0, 'shape': array([  1, 200, 200,   3]), 'shape_signature': array([ -1, 200, 200,   3]), 'dtype': <class 'numpy.float32'>, 'quantization': (0.0, 0), 'quantization_parameters': {'scales': array([], dtype=float32), 'zero_points': array([], dtype=int32), 'quantized_dimension': 0}, 'sparsity_parameters': {}}]\n"
     ]
    }
   ],
   "source": [
    "import tensorflow as tf\n",
    "\n",
    "# Load the TF-Lite model\n",
    "interpreter = tf.lite.Interpreter(model_path=r\"C:\\Users\\hillarik\\Desktop\\MLzoomcamp\\09 serveless\\.ipynb_checkpoints\\hair_model_project\\model_2024_hairstyle.tflite\")\n",
    "\n",
    "# Allocate tensors to initialize the model\n",
    "interpreter.allocate_tensors()\n",
    "\n",
    "# Get output details\n",
    "output_details = interpreter.get_output_details()\n",
    "\n",
    "# Print output index details\n",
    "print(output_details)\n",
    "\n",
    "\n"
   ]
  },
  {
   "cell_type": "code",
   "execution_count": 38,
   "id": "37dac590",
   "metadata": {},
   "outputs": [
    {
     "name": "stdout",
     "output_type": "stream",
     "text": [
      "Input index: 0\n",
      "Output index: 0\n"
     ]
    }
   ],
   "source": [
    "interpreter = tf.lite.Interpreter(model_path=r\"C:\\Users\\hillarik\\Desktop\\MLzoomcamp\\09 serveless\\.ipynb_checkpoints\\hair_model_project\\model_2024_hairstyle.tflite\")\n",
    "interpreter.allocate_tensors()\n",
    "\n",
    "input_details = interpreter.get_input_details()\n",
    "output_details = interpreter.get_output_details()\n",
    "\n",
    "print(f\"Input index: {input_details[0]['index']}\")\n",
    "print(f\"Output index: {output_details[0]['index']}\")\n"
   ]
  },
  {
   "cell_type": "code",
   "execution_count": 39,
   "id": "f12b7492",
   "metadata": {},
   "outputs": [
    {
     "name": "stdout",
     "output_type": "stream",
     "text": [
      "First pixel R-channel value: 0.23921568627450981\n"
     ]
    }
   ],
   "source": [
    "from io import BytesIO\n",
    "from urllib import request\n",
    "from PIL import Image\n",
    "import numpy as np\n",
    "\n",
    "# Download image\n",
    "def download_image(url):\n",
    "    with request.urlopen(url) as resp:\n",
    "        buffer = resp.read()\n",
    "    stream = BytesIO(buffer)\n",
    "    img = Image.open(stream)\n",
    "    return img\n",
    "\n",
    "# Prepare and preprocess image\n",
    "def prepare_image(img, target_size):\n",
    "    if img.mode != 'RGB':\n",
    "        img = img.convert('RGB')\n",
    "    img = img.resize(target_size, Image.NEAREST)\n",
    "    return img\n",
    "\n",
    "def preprocess_image(img):\n",
    "    img_array = np.array(img) / 255.0\n",
    "    return img_array[np.newaxis, ...]\n",
    "\n",
    "url = \"https://habrastorage.org/webt/yf/_d/ok/yf_dokzqy3vcritme8ggnzqlvwa.jpeg\"\n",
    "img = download_image(url)\n",
    "prepared_img = prepare_image(img, (224, 224))\n",
    "preprocessed_img = preprocess_image(prepared_img)\n",
    "\n",
    "print(f\"First pixel R-channel value: {preprocessed_img[0, 0, 0, 0]}\")\n"
   ]
  },
  {
   "cell_type": "code",
   "execution_count": 44,
   "id": "cdbfc738",
   "metadata": {},
   "outputs": [
    {
     "name": "stdout",
     "output_type": "stream",
     "text": [
      "True\n"
     ]
    }
   ],
   "source": [
    "import os\n",
    "print(os.path.exists(r\"C:\\Users\\hillarik\\Desktop\\MLzoomcamp\\09 serveless\\.ipynb_checkpoints\\hair_model_project\\image.jpg\"))\n"
   ]
  },
  {
   "cell_type": "code",
   "execution_count": 48,
   "id": "5869984d",
   "metadata": {},
   "outputs": [
    {
     "name": "stdout",
     "output_type": "stream",
     "text": [
      "b''\n"
     ]
    }
   ],
   "source": [
    "# Check the file's integrity by reading the first few bytes\n",
    "with open(r\"C:\\Users\\hillarik\\Desktop\\MLzoomcamp\\09 serveless\\.ipynb_checkpoints\\hair_model_project\\image.jpg\", \"rb\") as file:\n",
    "    file_header = file.read(10)  # Read the first 10 bytes\n",
    "    print(file_header)\n",
    "\n",
    "\n"
   ]
  },
  {
   "cell_type": "code",
   "execution_count": 49,
   "id": "53c3cbb6",
   "metadata": {},
   "outputs": [
    {
     "name": "stdout",
     "output_type": "stream",
     "text": [
      "Collecting opencv-python\n",
      "  Downloading opencv_python-4.10.0.84-cp37-abi3-win_amd64.whl (38.8 MB)\n",
      "Requirement already satisfied: numpy>=1.21.2 in c:\\users\\hillarik\\appdata\\local\\programs\\python\\python310\\lib\\site-packages (from opencv-python) (1.23.5)\n",
      "Installing collected packages: opencv-python\n",
      "Successfully installed opencv-python-4.10.0.84\n",
      "Note: you may need to restart the kernel to use updated packages.\n"
     ]
    },
    {
     "name": "stderr",
     "output_type": "stream",
     "text": [
      "WARNING: You are using pip version 21.2.3; however, version 24.3.1 is available.\n",
      "You should consider upgrading via the 'c:\\Users\\hillarik\\AppData\\Local\\Programs\\Python\\Python310\\python.exe -m pip install --upgrade pip' command.\n"
     ]
    }
   ],
   "source": [
    "pip install opencv-python\n"
   ]
  },
  {
   "cell_type": "code",
   "execution_count": 50,
   "id": "10ade32d",
   "metadata": {},
   "outputs": [
    {
     "name": "stdout",
     "output_type": "stream",
     "text": [
      "Unable to load the image with OpenCV.\n"
     ]
    }
   ],
   "source": [
    "import cv2\n",
    "\n",
    "image_path = r\"C:\\Users\\hillarik\\Desktop\\MLzoomcamp\\09 serveless\\.ipynb_checkpoints\\hair_model_project\\image.jpg\"\n",
    "\n",
    "image = cv2.imread(image_path)\n",
    "\n",
    "if image is None:\n",
    "    print(\"Unable to load the image with OpenCV.\")\n",
    "else:\n",
    "    print(\"Image loaded successfully.\")\n"
   ]
  },
  {
   "cell_type": "code",
   "execution_count": 54,
   "id": "06268593",
   "metadata": {},
   "outputs": [
    {
     "name": "stdout",
     "output_type": "stream",
     "text": [
      "Downloaded image.jpg\n"
     ]
    }
   ],
   "source": [
    "import urllib.request\n",
    "\n",
    "url = \"https://habrastorage.org/webt/yf/_d/ok/yf_dokzqy3vcritme8ggnzqlvwa.jpeg\"\n",
    "output_file = \"image.jpg\"\n",
    "\n",
    "urllib.request.urlretrieve(url, output_file)\n",
    "print(f\"Downloaded {output_file}\")\n",
    "\n"
   ]
  },
  {
   "cell_type": "code",
   "execution_count": 59,
   "id": "4de47699",
   "metadata": {},
   "outputs": [],
   "source": [
    "interpreter = tf.lite.Interpreter(model_path=r\"C:\\Users\\hillarik\\Desktop\\MLzoomcamp\\09 serveless\\.ipynb_checkpoints\\hair_model_project\\model_2024_hairstyle.tflite\")\n"
   ]
  },
  {
   "cell_type": "code",
   "execution_count": 60,
   "id": "4f2199cb",
   "metadata": {},
   "outputs": [],
   "source": [
    "from PIL import Image\n",
    "import numpy as np\n",
    "\n",
    "# Load and preprocess the image\n",
    "image_path = r\"C:\\Users\\hillarik\\Desktop\\MLzoomcamp\\09 serveless\\.ipynb_checkpoints\\image.jpg\"\n",
    "image = Image.open(image_path)\n",
    "image = image.resize((200, 200))  # Resize image to match the input size expected by the model\n",
    "preprocessed_img = np.expand_dims(np.array(image) / 255.0, axis=0).astype(np.float32)  # Normalize and expand dims\n"
   ]
  },
  {
   "cell_type": "code",
   "execution_count": 62,
   "id": "91601beb",
   "metadata": {},
   "outputs": [
    {
     "name": "stdout",
     "output_type": "stream",
     "text": [
      "Model output: [[[[0.24313726 0.4117647  0.09019608]\n",
      "   [0.23921569 0.41568628 0.09803922]\n",
      "   [0.24313726 0.42745098 0.11764706]\n",
      "   ...\n",
      "   [0.24705882 0.34901962 0.00392157]\n",
      "   [0.22745098 0.3372549  0.00784314]\n",
      "   [0.21568628 0.32156864 0.00784314]]\n",
      "\n",
      "  [[0.2509804  0.41960785 0.10980392]\n",
      "   [0.25490198 0.41960785 0.11764706]\n",
      "   [0.2627451  0.42745098 0.13333334]\n",
      "   ...\n",
      "   [0.25490198 0.34509805 0.00784314]\n",
      "   [0.23529412 0.32941177 0.01176471]\n",
      "   [0.21568628 0.31764707 0.01568628]]\n",
      "\n",
      "  [[0.25882354 0.43137255 0.1254902 ]\n",
      "   [0.2627451  0.42745098 0.12941177]\n",
      "   [0.2784314  0.43529412 0.14117648]\n",
      "   ...\n",
      "   [0.2509804  0.34509805 0.02745098]\n",
      "   [0.23529412 0.3254902  0.02352941]\n",
      "   [0.21176471 0.3137255  0.01176471]]\n",
      "\n",
      "  ...\n",
      "\n",
      "  [[0.10196079 0.19607843 0.03921569]\n",
      "   [0.11372549 0.21176471 0.05098039]\n",
      "   [0.12941177 0.23137255 0.05098039]\n",
      "   ...\n",
      "   [0.87058824 0.90588236 0.9019608 ]\n",
      "   [0.8666667  0.9019608  0.8980392 ]\n",
      "   [0.8784314  0.9137255  0.9098039 ]]\n",
      "\n",
      "  [[0.10196079 0.19215687 0.03921569]\n",
      "   [0.10588235 0.20784314 0.03921569]\n",
      "   [0.1254902  0.22352941 0.04313726]\n",
      "   ...\n",
      "   [0.8784314  0.9098039  0.90588236]\n",
      "   [0.87058824 0.9098039  0.90588236]\n",
      "   [0.8745098  0.9254902  0.91764706]]\n",
      "\n",
      "  [[0.10196079 0.18039216 0.03529412]\n",
      "   [0.09803922 0.19215687 0.03529412]\n",
      "   [0.10980392 0.20784314 0.04705882]\n",
      "   ...\n",
      "   [0.87058824 0.9098039  0.90588236]\n",
      "   [0.88235295 0.92156863 0.91764706]\n",
      "   [0.88235295 0.92941177 0.92156863]]]]\n"
     ]
    }
   ],
   "source": [
    "interpreter.allocate_tensors()\n",
    "input_details = interpreter.get_input_details()\n",
    "output_details = interpreter.get_output_details()\n",
    "\n",
    "# Set the input tensor\n",
    "interpreter.set_tensor(input_details[0]['index'], preprocessed_img)\n",
    "\n",
    "# Run inference\n",
    "interpreter.invoke()\n",
    "\n",
    "# Get the output tensor\n",
    "output = interpreter.get_tensor(output_details[0]['index'])\n",
    "print(\"Model output:\", output)"
   ]
  },
  {
   "cell_type": "code",
   "execution_count": 63,
   "id": "906b848d",
   "metadata": {},
   "outputs": [],
   "source": [
    "import numpy as np\n",
    "from PIL import Image\n",
    "from io import BytesIO\n",
    "from urllib import request\n",
    "\n",
    "def lambda_handler(event, context):\n",
    "    # Image download and preprocessing\n",
    "    url = event[\"url\"]\n",
    "    img = download_image(url)\n",
    "    prepared_img = prepare_image(img, (224, 224))\n",
    "    preprocessed_img = preprocess_image(prepared_img)\n",
    "\n",
    "    # Run model\n",
    "    interpreter.set_tensor(interpreter.get_input_details()[0]['index'], preprocessed_img)\n",
    "    interpreter.invoke()\n",
    "    output = interpreter.get_tensor(interpreter.get_output_details()[0]['index'])\n",
    "\n",
    "    return {\"output\": float(output[0][0])}\n"
   ]
  },
  {
   "cell_type": "code",
   "execution_count": 67,
   "id": "f2114a17",
   "metadata": {},
   "outputs": [
    {
     "ename": "SyntaxError",
     "evalue": "(unicode error) 'unicodeescape' codec can't decode bytes in position 2-3: truncated \\UXXXXXXXX escape (2757345241.py, line 4)",
     "output_type": "error",
     "traceback": [
      "\u001b[1;36m  Cell \u001b[1;32mIn[67], line 4\u001b[1;36m\u001b[0m\n\u001b[1;33m    event = {\"url\": \"C:\\Users\\hillarik\\Desktop\\MLzoomcamp\\09 serveless\\.ipynb_checkpoints\\hair_model_project\\model_2024_hairstyle.tflite\"}\u001b[0m\n\u001b[1;37m                                                                                                                                         ^\u001b[0m\n\u001b[1;31mSyntaxError\u001b[0m\u001b[1;31m:\u001b[0m (unicode error) 'unicodeescape' codec can't decode bytes in position 2-3: truncated \\UXXXXXXXX escape\n"
     ]
    }
   ],
   "source": [
    "from lambda_function import lambda_handler\n",
    "\n",
    "# Example of event with an image URL\n",
    "event = {\"url\": \"C:\\Users\\hillarik\\Desktop\\MLzoomcamp\\09 serveless\\.ipynb_checkpoints\\hair_model_project\\model_2024_hairstyle.tflite\"}\n",
    "context = {}  # You can leave it empty if not needed\n",
    "\n",
    "# Run the handler function\n",
    "output = lambda_handler(event, context)\n",
    "\n",
    "# Print the output\n",
    "print(output)\n"
   ]
  },
  {
   "cell_type": "code",
   "execution_count": null,
   "id": "815ae992",
   "metadata": {},
   "outputs": [],
   "source": []
  }
 ],
 "metadata": {
  "kernelspec": {
   "display_name": "Python 3",
   "language": "python",
   "name": "python3"
  },
  "language_info": {
   "codemirror_mode": {
    "name": "ipython",
    "version": 3
   },
   "file_extension": ".py",
   "mimetype": "text/x-python",
   "name": "python",
   "nbconvert_exporter": "python",
   "pygments_lexer": "ipython3",
   "version": "3.10.0"
  }
 },
 "nbformat": 4,
 "nbformat_minor": 5
}
