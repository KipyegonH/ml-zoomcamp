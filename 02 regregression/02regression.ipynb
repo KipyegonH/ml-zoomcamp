{
 "cells": [
  {
   "cell_type": "code",
   "execution_count": 1,
   "id": "4825e2ec-5b2d-4082-8bc3-3b5d60226aa5",
   "metadata": {},
   "outputs": [],
   "source": [
    "import pandas as pd\n",
    "import numpy as np"
   ]
  },
  {
   "cell_type": "code",
   "execution_count": 2,
   "id": "82d5325f-1a99-4f17-af65-f70e36f2c890",
   "metadata": {},
   "outputs": [],
   "source": [
    "df=pd.read_csv(r\"C:\\Users\\hillarik\\Desktop\\MLzoomcamp\\data\\laptops.csv\")"
   ]
  },
  {
   "cell_type": "code",
   "execution_count": 4,
   "id": "0cfee0c8-135a-4ec3-a589-9481602ed0f8",
   "metadata": {},
   "outputs": [
    {
     "data": {
      "text/html": [
       "<div>\n",
       "<style scoped>\n",
       "    .dataframe tbody tr th:only-of-type {\n",
       "        vertical-align: middle;\n",
       "    }\n",
       "\n",
       "    .dataframe tbody tr th {\n",
       "        vertical-align: top;\n",
       "    }\n",
       "\n",
       "    .dataframe thead th {\n",
       "        text-align: right;\n",
       "    }\n",
       "</style>\n",
       "<table border=\"1\" class=\"dataframe\">\n",
       "  <thead>\n",
       "    <tr style=\"text-align: right;\">\n",
       "      <th></th>\n",
       "      <th>Laptop</th>\n",
       "      <th>Status</th>\n",
       "      <th>Brand</th>\n",
       "      <th>Model</th>\n",
       "      <th>CPU</th>\n",
       "      <th>RAM</th>\n",
       "      <th>Storage</th>\n",
       "      <th>Storage type</th>\n",
       "      <th>GPU</th>\n",
       "      <th>Screen</th>\n",
       "      <th>Touch</th>\n",
       "      <th>Final Price</th>\n",
       "    </tr>\n",
       "  </thead>\n",
       "  <tbody>\n",
       "    <tr>\n",
       "      <th>0</th>\n",
       "      <td>ASUS ExpertBook B1 B1502CBA-EJ0436X Intel Core...</td>\n",
       "      <td>New</td>\n",
       "      <td>Asus</td>\n",
       "      <td>ExpertBook</td>\n",
       "      <td>Intel Core i5</td>\n",
       "      <td>8</td>\n",
       "      <td>512</td>\n",
       "      <td>SSD</td>\n",
       "      <td>NaN</td>\n",
       "      <td>15.6</td>\n",
       "      <td>No</td>\n",
       "      <td>1009.00</td>\n",
       "    </tr>\n",
       "    <tr>\n",
       "      <th>1</th>\n",
       "      <td>Alurin Go Start Intel Celeron N4020/8GB/256GB ...</td>\n",
       "      <td>New</td>\n",
       "      <td>Alurin</td>\n",
       "      <td>Go</td>\n",
       "      <td>Intel Celeron</td>\n",
       "      <td>8</td>\n",
       "      <td>256</td>\n",
       "      <td>SSD</td>\n",
       "      <td>NaN</td>\n",
       "      <td>15.6</td>\n",
       "      <td>No</td>\n",
       "      <td>299.00</td>\n",
       "    </tr>\n",
       "    <tr>\n",
       "      <th>2</th>\n",
       "      <td>ASUS ExpertBook B1 B1502CBA-EJ0424X Intel Core...</td>\n",
       "      <td>New</td>\n",
       "      <td>Asus</td>\n",
       "      <td>ExpertBook</td>\n",
       "      <td>Intel Core i3</td>\n",
       "      <td>8</td>\n",
       "      <td>256</td>\n",
       "      <td>SSD</td>\n",
       "      <td>NaN</td>\n",
       "      <td>15.6</td>\n",
       "      <td>No</td>\n",
       "      <td>789.00</td>\n",
       "    </tr>\n",
       "    <tr>\n",
       "      <th>3</th>\n",
       "      <td>MSI Katana GF66 12UC-082XES Intel Core i7-1270...</td>\n",
       "      <td>New</td>\n",
       "      <td>MSI</td>\n",
       "      <td>Katana</td>\n",
       "      <td>Intel Core i7</td>\n",
       "      <td>16</td>\n",
       "      <td>1000</td>\n",
       "      <td>SSD</td>\n",
       "      <td>RTX 3050</td>\n",
       "      <td>15.6</td>\n",
       "      <td>No</td>\n",
       "      <td>1199.00</td>\n",
       "    </tr>\n",
       "    <tr>\n",
       "      <th>4</th>\n",
       "      <td>HP 15S-FQ5085NS Intel Core i5-1235U/16GB/512GB...</td>\n",
       "      <td>New</td>\n",
       "      <td>HP</td>\n",
       "      <td>15S</td>\n",
       "      <td>Intel Core i5</td>\n",
       "      <td>16</td>\n",
       "      <td>512</td>\n",
       "      <td>SSD</td>\n",
       "      <td>NaN</td>\n",
       "      <td>15.6</td>\n",
       "      <td>No</td>\n",
       "      <td>669.01</td>\n",
       "    </tr>\n",
       "  </tbody>\n",
       "</table>\n",
       "</div>"
      ],
      "text/plain": [
       "                                              Laptop Status   Brand  \\\n",
       "0  ASUS ExpertBook B1 B1502CBA-EJ0436X Intel Core...    New    Asus   \n",
       "1  Alurin Go Start Intel Celeron N4020/8GB/256GB ...    New  Alurin   \n",
       "2  ASUS ExpertBook B1 B1502CBA-EJ0424X Intel Core...    New    Asus   \n",
       "3  MSI Katana GF66 12UC-082XES Intel Core i7-1270...    New     MSI   \n",
       "4  HP 15S-FQ5085NS Intel Core i5-1235U/16GB/512GB...    New      HP   \n",
       "\n",
       "        Model            CPU  RAM  Storage Storage type       GPU  Screen  \\\n",
       "0  ExpertBook  Intel Core i5    8      512          SSD       NaN    15.6   \n",
       "1          Go  Intel Celeron    8      256          SSD       NaN    15.6   \n",
       "2  ExpertBook  Intel Core i3    8      256          SSD       NaN    15.6   \n",
       "3      Katana  Intel Core i7   16     1000          SSD  RTX 3050    15.6   \n",
       "4         15S  Intel Core i5   16      512          SSD       NaN    15.6   \n",
       "\n",
       "  Touch  Final Price  \n",
       "0    No      1009.00  \n",
       "1    No       299.00  \n",
       "2    No       789.00  \n",
       "3    No      1199.00  \n",
       "4    No       669.01  "
      ]
     },
     "execution_count": 4,
     "metadata": {},
     "output_type": "execute_result"
    }
   ],
   "source": [
    "df.head()"
   ]
  },
  {
   "cell_type": "code",
   "execution_count": 5,
   "id": "f8835118-5caf-49b7-bb6c-1eb027b52109",
   "metadata": {},
   "outputs": [],
   "source": [
    "df.columns =df.columns.str.lower().str.replace(' ','_')"
   ]
  },
  {
   "cell_type": "code",
   "execution_count": 6,
   "id": "ea2ab47d-e738-4934-a7b7-3f015815ccee",
   "metadata": {},
   "outputs": [
    {
     "data": {
      "text/html": [
       "<div>\n",
       "<style scoped>\n",
       "    .dataframe tbody tr th:only-of-type {\n",
       "        vertical-align: middle;\n",
       "    }\n",
       "\n",
       "    .dataframe tbody tr th {\n",
       "        vertical-align: top;\n",
       "    }\n",
       "\n",
       "    .dataframe thead th {\n",
       "        text-align: right;\n",
       "    }\n",
       "</style>\n",
       "<table border=\"1\" class=\"dataframe\">\n",
       "  <thead>\n",
       "    <tr style=\"text-align: right;\">\n",
       "      <th></th>\n",
       "      <th>laptop</th>\n",
       "      <th>status</th>\n",
       "      <th>brand</th>\n",
       "      <th>model</th>\n",
       "      <th>cpu</th>\n",
       "      <th>ram</th>\n",
       "      <th>storage</th>\n",
       "      <th>storage_type</th>\n",
       "      <th>gpu</th>\n",
       "      <th>screen</th>\n",
       "      <th>touch</th>\n",
       "      <th>final_price</th>\n",
       "    </tr>\n",
       "  </thead>\n",
       "  <tbody>\n",
       "    <tr>\n",
       "      <th>0</th>\n",
       "      <td>ASUS ExpertBook B1 B1502CBA-EJ0436X Intel Core...</td>\n",
       "      <td>New</td>\n",
       "      <td>Asus</td>\n",
       "      <td>ExpertBook</td>\n",
       "      <td>Intel Core i5</td>\n",
       "      <td>8</td>\n",
       "      <td>512</td>\n",
       "      <td>SSD</td>\n",
       "      <td>NaN</td>\n",
       "      <td>15.6</td>\n",
       "      <td>No</td>\n",
       "      <td>1009.00</td>\n",
       "    </tr>\n",
       "    <tr>\n",
       "      <th>1</th>\n",
       "      <td>Alurin Go Start Intel Celeron N4020/8GB/256GB ...</td>\n",
       "      <td>New</td>\n",
       "      <td>Alurin</td>\n",
       "      <td>Go</td>\n",
       "      <td>Intel Celeron</td>\n",
       "      <td>8</td>\n",
       "      <td>256</td>\n",
       "      <td>SSD</td>\n",
       "      <td>NaN</td>\n",
       "      <td>15.6</td>\n",
       "      <td>No</td>\n",
       "      <td>299.00</td>\n",
       "    </tr>\n",
       "    <tr>\n",
       "      <th>2</th>\n",
       "      <td>ASUS ExpertBook B1 B1502CBA-EJ0424X Intel Core...</td>\n",
       "      <td>New</td>\n",
       "      <td>Asus</td>\n",
       "      <td>ExpertBook</td>\n",
       "      <td>Intel Core i3</td>\n",
       "      <td>8</td>\n",
       "      <td>256</td>\n",
       "      <td>SSD</td>\n",
       "      <td>NaN</td>\n",
       "      <td>15.6</td>\n",
       "      <td>No</td>\n",
       "      <td>789.00</td>\n",
       "    </tr>\n",
       "    <tr>\n",
       "      <th>3</th>\n",
       "      <td>MSI Katana GF66 12UC-082XES Intel Core i7-1270...</td>\n",
       "      <td>New</td>\n",
       "      <td>MSI</td>\n",
       "      <td>Katana</td>\n",
       "      <td>Intel Core i7</td>\n",
       "      <td>16</td>\n",
       "      <td>1000</td>\n",
       "      <td>SSD</td>\n",
       "      <td>RTX 3050</td>\n",
       "      <td>15.6</td>\n",
       "      <td>No</td>\n",
       "      <td>1199.00</td>\n",
       "    </tr>\n",
       "    <tr>\n",
       "      <th>4</th>\n",
       "      <td>HP 15S-FQ5085NS Intel Core i5-1235U/16GB/512GB...</td>\n",
       "      <td>New</td>\n",
       "      <td>HP</td>\n",
       "      <td>15S</td>\n",
       "      <td>Intel Core i5</td>\n",
       "      <td>16</td>\n",
       "      <td>512</td>\n",
       "      <td>SSD</td>\n",
       "      <td>NaN</td>\n",
       "      <td>15.6</td>\n",
       "      <td>No</td>\n",
       "      <td>669.01</td>\n",
       "    </tr>\n",
       "  </tbody>\n",
       "</table>\n",
       "</div>"
      ],
      "text/plain": [
       "                                              laptop status   brand  \\\n",
       "0  ASUS ExpertBook B1 B1502CBA-EJ0436X Intel Core...    New    Asus   \n",
       "1  Alurin Go Start Intel Celeron N4020/8GB/256GB ...    New  Alurin   \n",
       "2  ASUS ExpertBook B1 B1502CBA-EJ0424X Intel Core...    New    Asus   \n",
       "3  MSI Katana GF66 12UC-082XES Intel Core i7-1270...    New     MSI   \n",
       "4  HP 15S-FQ5085NS Intel Core i5-1235U/16GB/512GB...    New      HP   \n",
       "\n",
       "        model            cpu  ram  storage storage_type       gpu  screen  \\\n",
       "0  ExpertBook  Intel Core i5    8      512          SSD       NaN    15.6   \n",
       "1          Go  Intel Celeron    8      256          SSD       NaN    15.6   \n",
       "2  ExpertBook  Intel Core i3    8      256          SSD       NaN    15.6   \n",
       "3      Katana  Intel Core i7   16     1000          SSD  RTX 3050    15.6   \n",
       "4         15S  Intel Core i5   16      512          SSD       NaN    15.6   \n",
       "\n",
       "  touch  final_price  \n",
       "0    No      1009.00  \n",
       "1    No       299.00  \n",
       "2    No       789.00  \n",
       "3    No      1199.00  \n",
       "4    No       669.01  "
      ]
     },
     "execution_count": 6,
     "metadata": {},
     "output_type": "execute_result"
    }
   ],
   "source": [
    "df.head()"
   ]
  },
  {
   "cell_type": "code",
   "execution_count": 11,
   "id": "c76379f2-2614-4f6c-83b5-115d2291e60f",
   "metadata": {},
   "outputs": [],
   "source": [
    "# Select the specified columns\n",
    "df_filtered = df[['ram', 'storage', 'screen', 'final_price']]\n"
   ]
  },
  {
   "cell_type": "code",
   "execution_count": 12,
   "id": "1c677024-5322-4c98-b15d-e88bbfc34829",
   "metadata": {},
   "outputs": [
    {
     "data": {
      "text/html": [
       "<div>\n",
       "<style scoped>\n",
       "    .dataframe tbody tr th:only-of-type {\n",
       "        vertical-align: middle;\n",
       "    }\n",
       "\n",
       "    .dataframe tbody tr th {\n",
       "        vertical-align: top;\n",
       "    }\n",
       "\n",
       "    .dataframe thead th {\n",
       "        text-align: right;\n",
       "    }\n",
       "</style>\n",
       "<table border=\"1\" class=\"dataframe\">\n",
       "  <thead>\n",
       "    <tr style=\"text-align: right;\">\n",
       "      <th></th>\n",
       "      <th>laptop</th>\n",
       "      <th>status</th>\n",
       "      <th>brand</th>\n",
       "      <th>model</th>\n",
       "      <th>cpu</th>\n",
       "      <th>ram</th>\n",
       "      <th>storage</th>\n",
       "      <th>storage_type</th>\n",
       "      <th>gpu</th>\n",
       "      <th>screen</th>\n",
       "      <th>touch</th>\n",
       "      <th>final_price</th>\n",
       "    </tr>\n",
       "  </thead>\n",
       "  <tbody>\n",
       "    <tr>\n",
       "      <th>0</th>\n",
       "      <td>ASUS ExpertBook B1 B1502CBA-EJ0436X Intel Core...</td>\n",
       "      <td>New</td>\n",
       "      <td>Asus</td>\n",
       "      <td>ExpertBook</td>\n",
       "      <td>Intel Core i5</td>\n",
       "      <td>8</td>\n",
       "      <td>512</td>\n",
       "      <td>SSD</td>\n",
       "      <td>NaN</td>\n",
       "      <td>15.6</td>\n",
       "      <td>No</td>\n",
       "      <td>1009.00</td>\n",
       "    </tr>\n",
       "    <tr>\n",
       "      <th>1</th>\n",
       "      <td>Alurin Go Start Intel Celeron N4020/8GB/256GB ...</td>\n",
       "      <td>New</td>\n",
       "      <td>Alurin</td>\n",
       "      <td>Go</td>\n",
       "      <td>Intel Celeron</td>\n",
       "      <td>8</td>\n",
       "      <td>256</td>\n",
       "      <td>SSD</td>\n",
       "      <td>NaN</td>\n",
       "      <td>15.6</td>\n",
       "      <td>No</td>\n",
       "      <td>299.00</td>\n",
       "    </tr>\n",
       "    <tr>\n",
       "      <th>2</th>\n",
       "      <td>ASUS ExpertBook B1 B1502CBA-EJ0424X Intel Core...</td>\n",
       "      <td>New</td>\n",
       "      <td>Asus</td>\n",
       "      <td>ExpertBook</td>\n",
       "      <td>Intel Core i3</td>\n",
       "      <td>8</td>\n",
       "      <td>256</td>\n",
       "      <td>SSD</td>\n",
       "      <td>NaN</td>\n",
       "      <td>15.6</td>\n",
       "      <td>No</td>\n",
       "      <td>789.00</td>\n",
       "    </tr>\n",
       "    <tr>\n",
       "      <th>3</th>\n",
       "      <td>MSI Katana GF66 12UC-082XES Intel Core i7-1270...</td>\n",
       "      <td>New</td>\n",
       "      <td>MSI</td>\n",
       "      <td>Katana</td>\n",
       "      <td>Intel Core i7</td>\n",
       "      <td>16</td>\n",
       "      <td>1000</td>\n",
       "      <td>SSD</td>\n",
       "      <td>RTX 3050</td>\n",
       "      <td>15.6</td>\n",
       "      <td>No</td>\n",
       "      <td>1199.00</td>\n",
       "    </tr>\n",
       "    <tr>\n",
       "      <th>4</th>\n",
       "      <td>HP 15S-FQ5085NS Intel Core i5-1235U/16GB/512GB...</td>\n",
       "      <td>New</td>\n",
       "      <td>HP</td>\n",
       "      <td>15S</td>\n",
       "      <td>Intel Core i5</td>\n",
       "      <td>16</td>\n",
       "      <td>512</td>\n",
       "      <td>SSD</td>\n",
       "      <td>NaN</td>\n",
       "      <td>15.6</td>\n",
       "      <td>No</td>\n",
       "      <td>669.01</td>\n",
       "    </tr>\n",
       "  </tbody>\n",
       "</table>\n",
       "</div>"
      ],
      "text/plain": [
       "                                              laptop status   brand  \\\n",
       "0  ASUS ExpertBook B1 B1502CBA-EJ0436X Intel Core...    New    Asus   \n",
       "1  Alurin Go Start Intel Celeron N4020/8GB/256GB ...    New  Alurin   \n",
       "2  ASUS ExpertBook B1 B1502CBA-EJ0424X Intel Core...    New    Asus   \n",
       "3  MSI Katana GF66 12UC-082XES Intel Core i7-1270...    New     MSI   \n",
       "4  HP 15S-FQ5085NS Intel Core i5-1235U/16GB/512GB...    New      HP   \n",
       "\n",
       "        model            cpu  ram  storage storage_type       gpu  screen  \\\n",
       "0  ExpertBook  Intel Core i5    8      512          SSD       NaN    15.6   \n",
       "1          Go  Intel Celeron    8      256          SSD       NaN    15.6   \n",
       "2  ExpertBook  Intel Core i3    8      256          SSD       NaN    15.6   \n",
       "3      Katana  Intel Core i7   16     1000          SSD  RTX 3050    15.6   \n",
       "4         15S  Intel Core i5   16      512          SSD       NaN    15.6   \n",
       "\n",
       "  touch  final_price  \n",
       "0    No      1009.00  \n",
       "1    No       299.00  \n",
       "2    No       789.00  \n",
       "3    No      1199.00  \n",
       "4    No       669.01  "
      ]
     },
     "execution_count": 12,
     "metadata": {},
     "output_type": "execute_result"
    }
   ],
   "source": [
    "df.head()"
   ]
  },
  {
   "cell_type": "code",
   "execution_count": 13,
   "id": "e4d6aed5-108e-4da6-8cf9-16a2bccf0688",
   "metadata": {},
   "outputs": [
    {
     "data": {
      "text/plain": [
       "ram            0\n",
       "storage        0\n",
       "screen         4\n",
       "final_price    0\n",
       "dtype: int64"
      ]
     },
     "execution_count": 13,
     "metadata": {},
     "output_type": "execute_result"
    }
   ],
   "source": [
    "# Check for missing values in the filtered columns\n",
    "df_filtered.isnull().sum()\n"
   ]
  },
  {
   "cell_type": "code",
   "execution_count": 15,
   "id": "19eaaf97-de97-41b4-a30f-fd646757e4c7",
   "metadata": {},
   "outputs": [
    {
     "name": "stdout",
     "output_type": "stream",
     "text": [
      "int64\n",
      "16.0\n"
     ]
    }
   ],
   "source": [
    "print(df_filtered['ram'].dtype)\n",
    "if df_filtered['ram'].dtype == 'object':\n",
    "    df_filtered['ram'] = df_filtered['ram'].str.replace('GB', '').astype(int)\n",
    "# Calculate the median of 'ram'\n",
    "ram_median = df_filtered['ram'].median()\n",
    "print(ram_median)\n",
    "\n"
   ]
  },
  {
   "cell_type": "code",
   "execution_count": 16,
   "id": "7bb2ee2c-1ed4-4997-9570-459a7de405a7",
   "metadata": {},
   "outputs": [
    {
     "name": "stdout",
     "output_type": "stream",
     "text": [
      "laptop\n",
      "['ASUS ExpertBook B1 B1502CBA-EJ0436X Intel Core i5-1235U/8GB/512GB SSD/15.6\"'\n",
      " 'Alurin Go Start Intel Celeron N4020/8GB/256GB SSD/15.6\"'\n",
      " 'ASUS ExpertBook B1 B1502CBA-EJ0424X Intel Core i3-1215U/8GB/256GB SSD/15.6\"'\n",
      " 'MSI Katana GF66 12UC-082XES Intel Core i7-12700H/16GB/1TB SSD/RTX3050/15.6\"'\n",
      " 'HP 15S-FQ5085NS Intel Core i5-1235U/16GB/512GB SSD/15.6\"']\n",
      "2160\n",
      "\n",
      "status\n",
      "['New' 'Refurbished']\n",
      "2\n",
      "\n",
      "brand\n",
      "['Asus' 'Alurin' 'MSI' 'HP' 'Lenovo']\n",
      "27\n",
      "\n",
      "model\n",
      "['ExpertBook' 'Go' 'Katana' '15S' 'Crosshair']\n",
      "121\n",
      "\n",
      "cpu\n",
      "['Intel Core i5' 'Intel Celeron' 'Intel Core i3' 'Intel Core i7'\n",
      " 'AMD Ryzen 5']\n",
      "28\n",
      "\n",
      "ram\n",
      "[ 8 16 32 12  4]\n",
      "9\n",
      "\n",
      "storage\n",
      "[ 512  256 1000   64  128]\n",
      "12\n",
      "\n",
      "storage_type\n",
      "['SSD' 'eMMC' nan]\n",
      "2\n",
      "\n",
      "gpu\n",
      "[nan 'RTX 3050' 'RTX 4060' 'RTX 4050' 'RTX 3060']\n",
      "44\n",
      "\n",
      "screen\n",
      "[15.6 17.3 14.  16.1 13.3]\n",
      "29\n",
      "\n",
      "touch\n",
      "['No' 'Yes']\n",
      "2\n",
      "\n",
      "final_price\n",
      "[1009.    299.    789.   1199.    669.01]\n",
      "1440\n",
      "\n"
     ]
    }
   ],
   "source": [
    "for  col in df.columns:\n",
    "    print(col)\n",
    "    print(df[col].unique()[:5])\n",
    "    print(df[col].nunique())\n",
    "    print() "
   ]
  },
  {
   "cell_type": "code",
   "execution_count": 17,
   "id": "3540bd28-7630-47e6-b606-e48e02fd19ae",
   "metadata": {},
   "outputs": [],
   "source": [
    "import seaborn as sns\n",
    "from matplotlib import pyplot as plt\n",
    "%matplotlib inline"
   ]
  },
  {
   "cell_type": "code",
   "execution_count": 31,
   "id": "5bcf5219-f259-41d6-bbcb-a02402e4ae53",
   "metadata": {},
   "outputs": [
    {
     "data": {
      "text/plain": [
       "<Axes: xlabel='final_price', ylabel='Count'>"
      ]
     },
     "execution_count": 31,
     "metadata": {},
     "output_type": "execute_result"
    },
    {
     "data": {
      "image/png": "[encoded data removed]",
      "text/plain": [
       "<Figure size 640x480 with 1 Axes>"
      ]
     },
     "metadata": {},
     "output_type": "display_data"
    }
   ],
   "source": [
    "#sns.histplot(df.final_price, bins=50)\n",
    "sns.histplot(df.final_price[df.final_price < 100000], bins=50)"
   ]
  },
  {
   "cell_type": "code",
   "execution_count": 26,
   "id": "7f725703-d0ea-40a0-90e3-4e89ca88543d",
   "metadata": {},
   "outputs": [
    {
     "data": {
      "text/plain": [
       "array([ 0.        ,  0.69314718,  4.61512052,  6.90875478, 11.51293546])"
      ]
     },
     "execution_count": 26,
     "metadata": {},
     "output_type": "execute_result"
    }
   ],
   "source": [
    "np.log1p([0,1,100,1000,100000])"
   ]
  },
  {
   "cell_type": "code",
   "execution_count": 27,
   "id": "1b23125a-f31d-4bc5-9da6-401955d1d6de",
   "metadata": {},
   "outputs": [],
   "source": [
    "price_logs= np.log1p(df.final_price)"
   ]
  },
  {
   "cell_type": "code",
   "execution_count": 28,
   "id": "7cd26aee-b259-4ba6-9dc6-092cc97bbfdb",
   "metadata": {},
   "outputs": [
    {
     "data": {
      "text/plain": [
       "<Axes: xlabel='final_price', ylabel='Count'>"
      ]
     },
     "execution_count": 28,
     "metadata": {},
     "output_type": "execute_result"
    },
    {
     "data": {
      "image/png": "[encoded data removed]",
      "text/plain": [
       "<Figure size 640x480 with 1 Axes>"
      ]
     },
     "metadata": {},
     "output_type": "display_data"
    }
   ],
   "source": [
    "sns.histplot(price_logs, bins=50)"
   ]
  },
  {
   "cell_type": "code",
   "execution_count": 33,
   "id": "6ce61b9f-c324-4498-bfbc-0d3c40aca36a",
   "metadata": {},
   "outputs": [
    {
     "data": {
      "text/plain": [
       "2160"
      ]
     },
     "execution_count": 33,
     "metadata": {},
     "output_type": "execute_result"
    }
   ],
   "source": [
    "len(df)\n"
   ]
  },
  {
   "cell_type": "code",
   "execution_count": 35,
   "id": "85d55e09-2cb0-4155-91d4-2ec0097b2766",
   "metadata": {},
   "outputs": [],
   "source": [
    "n=len(df)\n",
    "n_val =int(n*0.2)\n",
    "n_test =int(n*0.2)\n",
    "n_train = (n-n_val-n_test)\n"
   ]
  },
  {
   "cell_type": "code",
   "execution_count": 36,
   "id": "56fd0a71-bc0c-4b4e-af09-db4a79d3d029",
   "metadata": {},
   "outputs": [
    {
     "data": {
      "text/plain": [
       "(2160, 2160)"
      ]
     },
     "execution_count": 36,
     "metadata": {},
     "output_type": "execute_result"
    }
   ],
   "source": [
    "(n,n_val+n_test+n_train)"
   ]
  },
  {
   "cell_type": "code",
   "execution_count": null,
   "id": "64c93724-7537-46a2-8ff0-be0a17a06524",
   "metadata": {},
   "outputs": [],
   "source": []
  },
  {
   "cell_type": "code",
   "execution_count": 45,
   "id": "ae96529f-48fc-42bd-859f-20c800d2d4b4",
   "metadata": {},
   "outputs": [],
   "source": [
    "df_train=df.iloc[n_train]\n",
    "df_val=df.iloc[n_train:n_train+n_val]\n",
    "df_test=df.iloc[n_train+n_val:]\n",
    "idx =np.arange(n)\n",
    "np.random.seed(42)\n",
    "np.random.shuffle(idx)\n",
    "df_train = df.iloc[idx[:n_train]]  # Training set\n",
    "df_val = df.iloc[idx[n_train:n_train+n_val]]  # Validation set\n",
    "df_test = df.iloc[idx[n_train+n_val:]]  # Test set\n",
    "\n"
   ]
  },
  {
   "cell_type": "code",
   "execution_count": 50,
   "id": "905051d6-0397-46bd-b569-efdc1900b2b2",
   "metadata": {
    "scrolled": true
   },
   "outputs": [
    {
     "data": {
      "text/html": [
       "<div>\n",
       "<style scoped>\n",
       "    .dataframe tbody tr th:only-of-type {\n",
       "        vertical-align: middle;\n",
       "    }\n",
       "\n",
       "    .dataframe tbody tr th {\n",
       "        vertical-align: top;\n",
       "    }\n",
       "\n",
       "    .dataframe thead th {\n",
       "        text-align: right;\n",
       "    }\n",
       "</style>\n",
       "<table border=\"1\" class=\"dataframe\">\n",
       "  <thead>\n",
       "    <tr style=\"text-align: right;\">\n",
       "      <th></th>\n",
       "      <th>laptop</th>\n",
       "      <th>status</th>\n",
       "      <th>brand</th>\n",
       "      <th>model</th>\n",
       "      <th>cpu</th>\n",
       "      <th>ram</th>\n",
       "      <th>storage</th>\n",
       "      <th>storage_type</th>\n",
       "      <th>gpu</th>\n",
       "      <th>screen</th>\n",
       "      <th>touch</th>\n",
       "      <th>final_price</th>\n",
       "    </tr>\n",
       "  </thead>\n",
       "  <tbody>\n",
       "    <tr>\n",
       "      <th>2079</th>\n",
       "      <td>MSI Modern 15 A11SBU-620XES Intel Core i7-1165...</td>\n",
       "      <td>Refurbished</td>\n",
       "      <td>MSI</td>\n",
       "      <td>Modern</td>\n",
       "      <td>Intel Core i7</td>\n",
       "      <td>32</td>\n",
       "      <td>1000</td>\n",
       "      <td>SSD</td>\n",
       "      <td>MX 450</td>\n",
       "      <td>15.6</td>\n",
       "      <td>No</td>\n",
       "      <td>1123.29</td>\n",
       "    </tr>\n",
       "    <tr>\n",
       "      <th>668</th>\n",
       "      <td>Thomson Neo White Intel Celeron N4020/4GB/64GB...</td>\n",
       "      <td>New</td>\n",
       "      <td>Thomson</td>\n",
       "      <td>Neo</td>\n",
       "      <td>Intel Celeron</td>\n",
       "      <td>4</td>\n",
       "      <td>64</td>\n",
       "      <td>eMMC</td>\n",
       "      <td>NaN</td>\n",
       "      <td>14.1</td>\n",
       "      <td>No</td>\n",
       "      <td>201.05</td>\n",
       "    </tr>\n",
       "    <tr>\n",
       "      <th>2073</th>\n",
       "      <td>MSI Modern 14 B11SB-420XES Intel Core i7-1165G...</td>\n",
       "      <td>Refurbished</td>\n",
       "      <td>MSI</td>\n",
       "      <td>Modern</td>\n",
       "      <td>Intel Core i7</td>\n",
       "      <td>32</td>\n",
       "      <td>1000</td>\n",
       "      <td>SSD</td>\n",
       "      <td>MX 450</td>\n",
       "      <td>14.0</td>\n",
       "      <td>No</td>\n",
       "      <td>997.74</td>\n",
       "    </tr>\n",
       "    <tr>\n",
       "      <th>1113</th>\n",
       "      <td>ASUS ZenBook 13 OLED UX325EA Intel Evo Core i7...</td>\n",
       "      <td>New</td>\n",
       "      <td>Asus</td>\n",
       "      <td>ZenBook</td>\n",
       "      <td>Intel Evo Core i7</td>\n",
       "      <td>16</td>\n",
       "      <td>512</td>\n",
       "      <td>SSD</td>\n",
       "      <td>NaN</td>\n",
       "      <td>13.3</td>\n",
       "      <td>No</td>\n",
       "      <td>1016.00</td>\n",
       "    </tr>\n",
       "    <tr>\n",
       "      <th>788</th>\n",
       "      <td>Acer Predator Triton 500 SE PT516-51s-75K6 Int...</td>\n",
       "      <td>New</td>\n",
       "      <td>Acer</td>\n",
       "      <td>Predator</td>\n",
       "      <td>Intel Core i7</td>\n",
       "      <td>32</td>\n",
       "      <td>1000</td>\n",
       "      <td>SSD</td>\n",
       "      <td>RTX 3080</td>\n",
       "      <td>16.0</td>\n",
       "      <td>No</td>\n",
       "      <td>2739.00</td>\n",
       "    </tr>\n",
       "  </tbody>\n",
       "</table>\n",
       "</div>"
      ],
      "text/plain": [
       "                                                 laptop       status    brand  \\\n",
       "2079  MSI Modern 15 A11SBU-620XES Intel Core i7-1165...  Refurbished      MSI   \n",
       "668   Thomson Neo White Intel Celeron N4020/4GB/64GB...          New  Thomson   \n",
       "2073  MSI Modern 14 B11SB-420XES Intel Core i7-1165G...  Refurbished      MSI   \n",
       "1113  ASUS ZenBook 13 OLED UX325EA Intel Evo Core i7...          New     Asus   \n",
       "788   Acer Predator Triton 500 SE PT516-51s-75K6 Int...          New     Acer   \n",
       "\n",
       "         model                cpu  ram  storage storage_type       gpu  \\\n",
       "2079    Modern      Intel Core i7   32     1000          SSD    MX 450   \n",
       "668        Neo      Intel Celeron    4       64         eMMC       NaN   \n",
       "2073    Modern      Intel Core i7   32     1000          SSD    MX 450   \n",
       "1113   ZenBook  Intel Evo Core i7   16      512          SSD       NaN   \n",
       "788   Predator      Intel Core i7   32     1000          SSD  RTX 3080   \n",
       "\n",
       "      screen touch  final_price  \n",
       "2079    15.6    No      1123.29  \n",
       "668     14.1    No       201.05  \n",
       "2073    14.0    No       997.74  \n",
       "1113    13.3    No      1016.00  \n",
       "788     16.0    No      2739.00  "
      ]
     },
     "execution_count": 50,
     "metadata": {},
     "output_type": "execute_result"
    }
   ],
   "source": [
    "df_train.head()"
   ]
  },
  {
   "cell_type": "code",
   "execution_count": 51,
   "id": "2eceed9b-29fc-4051-a306-4346bd7cac2d",
   "metadata": {},
   "outputs": [
    {
     "data": {
      "text/plain": [
       "(1296, 432, 432)"
      ]
     },
     "execution_count": 51,
     "metadata": {},
     "output_type": "execute_result"
    }
   ],
   "source": [
    "len(df_train),len(df_val),len(df_test)"
   ]
  },
  {
   "cell_type": "code",
   "execution_count": 52,
   "id": "119c8259-15a7-438a-bcd8-f0e0cbd1e94c",
   "metadata": {},
   "outputs": [],
   "source": [
    "df_train = df_train.reset_index(drop=True)\n",
    "df_val = df_val.reset_index(drop=True)\n",
    "df_test = df_test.reset_index(drop=True)"
   ]
  },
  {
   "cell_type": "code",
   "execution_count": 53,
   "id": "062673c7-1c44-40fb-a0ec-df0d9b145a52",
   "metadata": {},
   "outputs": [],
   "source": [
    "y_train = np.log1p(df_train.final_price.values)\n",
    "y_val = np.log1p(df_val.final_price.values)\n",
    "y_test = np.log1p(df_test.final_price.values)\n",
    "del df_train['final_price']\n",
    "del df_val['final_price']\n",
    "del df_test['final_price']"
   ]
  },
  {
   "cell_type": "code",
   "execution_count": 54,
   "id": "a621555f-42cc-4039-8eb7-c56edf9e7653",
   "metadata": {},
   "outputs": [
    {
     "data": {
      "text/plain": [
       "1296"
      ]
     },
     "execution_count": 54,
     "metadata": {},
     "output_type": "execute_result"
    }
   ],
   "source": [
    "len(y_train)"
   ]
  },
  {
   "cell_type": "code",
   "execution_count": 46,
   "id": "cd1135e5-8968-4be2-a640-979753a02ffe",
   "metadata": {},
   "outputs": [],
   "source": [
    "# Fill missing values with 0\n",
    "df_train_zero = df_train.fillna(0)\n",
    "df_val_zero = df_val.fillna(0)\n",
    "df_test_zero = df_test.fillna(0)\n"
   ]
  },
  {
   "cell_type": "code",
   "execution_count": 47,
   "id": "a78b5c5e-7707-48a9-93af-4813e6e91613",
   "metadata": {
    "scrolled": true
   },
   "outputs": [
    {
     "data": {
      "text/html": [
       "<div>\n",
       "<style scoped>\n",
       "    .dataframe tbody tr th:only-of-type {\n",
       "        vertical-align: middle;\n",
       "    }\n",
       "\n",
       "    .dataframe tbody tr th {\n",
       "        vertical-align: top;\n",
       "    }\n",
       "\n",
       "    .dataframe thead th {\n",
       "        text-align: right;\n",
       "    }\n",
       "</style>\n",
       "<table border=\"1\" class=\"dataframe\">\n",
       "  <thead>\n",
       "    <tr style=\"text-align: right;\">\n",
       "      <th></th>\n",
       "      <th>laptop</th>\n",
       "      <th>status</th>\n",
       "      <th>brand</th>\n",
       "      <th>model</th>\n",
       "      <th>cpu</th>\n",
       "      <th>ram</th>\n",
       "      <th>storage</th>\n",
       "      <th>storage_type</th>\n",
       "      <th>gpu</th>\n",
       "      <th>screen</th>\n",
       "      <th>touch</th>\n",
       "      <th>final_price</th>\n",
       "    </tr>\n",
       "  </thead>\n",
       "  <tbody>\n",
       "    <tr>\n",
       "      <th>2079</th>\n",
       "      <td>MSI Modern 15 A11SBU-620XES Intel Core i7-1165...</td>\n",
       "      <td>Refurbished</td>\n",
       "      <td>MSI</td>\n",
       "      <td>Modern</td>\n",
       "      <td>Intel Core i7</td>\n",
       "      <td>32</td>\n",
       "      <td>1000</td>\n",
       "      <td>SSD</td>\n",
       "      <td>MX 450</td>\n",
       "      <td>15.6</td>\n",
       "      <td>No</td>\n",
       "      <td>1123.29</td>\n",
       "    </tr>\n",
       "    <tr>\n",
       "      <th>668</th>\n",
       "      <td>Thomson Neo White Intel Celeron N4020/4GB/64GB...</td>\n",
       "      <td>New</td>\n",
       "      <td>Thomson</td>\n",
       "      <td>Neo</td>\n",
       "      <td>Intel Celeron</td>\n",
       "      <td>4</td>\n",
       "      <td>64</td>\n",
       "      <td>eMMC</td>\n",
       "      <td>NaN</td>\n",
       "      <td>14.1</td>\n",
       "      <td>No</td>\n",
       "      <td>201.05</td>\n",
       "    </tr>\n",
       "    <tr>\n",
       "      <th>2073</th>\n",
       "      <td>MSI Modern 14 B11SB-420XES Intel Core i7-1165G...</td>\n",
       "      <td>Refurbished</td>\n",
       "      <td>MSI</td>\n",
       "      <td>Modern</td>\n",
       "      <td>Intel Core i7</td>\n",
       "      <td>32</td>\n",
       "      <td>1000</td>\n",
       "      <td>SSD</td>\n",
       "      <td>MX 450</td>\n",
       "      <td>14.0</td>\n",
       "      <td>No</td>\n",
       "      <td>997.74</td>\n",
       "    </tr>\n",
       "    <tr>\n",
       "      <th>1113</th>\n",
       "      <td>ASUS ZenBook 13 OLED UX325EA Intel Evo Core i7...</td>\n",
       "      <td>New</td>\n",
       "      <td>Asus</td>\n",
       "      <td>ZenBook</td>\n",
       "      <td>Intel Evo Core i7</td>\n",
       "      <td>16</td>\n",
       "      <td>512</td>\n",
       "      <td>SSD</td>\n",
       "      <td>NaN</td>\n",
       "      <td>13.3</td>\n",
       "      <td>No</td>\n",
       "      <td>1016.00</td>\n",
       "    </tr>\n",
       "    <tr>\n",
       "      <th>788</th>\n",
       "      <td>Acer Predator Triton 500 SE PT516-51s-75K6 Int...</td>\n",
       "      <td>New</td>\n",
       "      <td>Acer</td>\n",
       "      <td>Predator</td>\n",
       "      <td>Intel Core i7</td>\n",
       "      <td>32</td>\n",
       "      <td>1000</td>\n",
       "      <td>SSD</td>\n",
       "      <td>RTX 3080</td>\n",
       "      <td>16.0</td>\n",
       "      <td>No</td>\n",
       "      <td>2739.00</td>\n",
       "    </tr>\n",
       "  </tbody>\n",
       "</table>\n",
       "</div>"
      ],
      "text/plain": [
       "                                                 laptop       status    brand  \\\n",
       "2079  MSI Modern 15 A11SBU-620XES Intel Core i7-1165...  Refurbished      MSI   \n",
       "668   Thomson Neo White Intel Celeron N4020/4GB/64GB...          New  Thomson   \n",
       "2073  MSI Modern 14 B11SB-420XES Intel Core i7-1165G...  Refurbished      MSI   \n",
       "1113  ASUS ZenBook 13 OLED UX325EA Intel Evo Core i7...          New     Asus   \n",
       "788   Acer Predator Triton 500 SE PT516-51s-75K6 Int...          New     Acer   \n",
       "\n",
       "         model                cpu  ram  storage storage_type       gpu  \\\n",
       "2079    Modern      Intel Core i7   32     1000          SSD    MX 450   \n",
       "668        Neo      Intel Celeron    4       64         eMMC       NaN   \n",
       "2073    Modern      Intel Core i7   32     1000          SSD    MX 450   \n",
       "1113   ZenBook  Intel Evo Core i7   16      512          SSD       NaN   \n",
       "788   Predator      Intel Core i7   32     1000          SSD  RTX 3080   \n",
       "\n",
       "      screen touch  final_price  \n",
       "2079    15.6    No      1123.29  \n",
       "668     14.1    No       201.05  \n",
       "2073    14.0    No       997.74  \n",
       "1113    13.3    No      1016.00  \n",
       "788     16.0    No      2739.00  "
      ]
     },
     "execution_count": 47,
     "metadata": {},
     "output_type": "execute_result"
    }
   ],
   "source": [
    "df_train.head()"
   ]
  },
  {
   "cell_type": "code",
   "execution_count": 65,
   "id": "4bc045c6-6562-46c1-a119-51c79a7c7b25",
   "metadata": {},
   "outputs": [
    {
     "name": "stdout",
     "output_type": "stream",
     "text": [
      "Intercept: 676.8954853003862\n",
      "Weights: [ 43.70681555   0.86506867 -36.10399833]\n"
     ]
    }
   ],
   "source": [
    "def train_linear_regression(X, y):\n",
    "    ones = np.ones(X.shape[0])  # Create an array of ones for the intercept\n",
    "    X = np.column_stack([ones, X])  # Add the intercept column to the features\n",
    "\n",
    "    # Calculate weights using the normal equation\n",
    "    XTX = X.T.dot(X)  # X transpose times X\n",
    "    XTX_inv = np.linalg.inv(XTX)  \n",
    "    w = XTX_inv.dot(X.T).dot(y)  \n",
    "    \n",
    "    return w[0], w[1:]\n",
    "X_train_zero = df_train_zero[['ram', 'storage', 'screen']].values  # Feature matrix\n",
    "y_train = df_train_zero['final_price'].values  # Target variable\n",
    "\n",
    "# Using custom fxn to train the linear regression model\n",
    "intercept_zero, weights_zero = train_linear_regression(X_train_zero, y_train)\n",
    "print(f\"Intercept: {intercept_zero}\")\n",
    "print(f\"Weights: {weights_zero}\")"
   ]
  },
  {
   "cell_type": "code",
   "execution_count": 66,
   "id": "2379cc0b-db66-4e3b-bb1b-4983d65f411d",
   "metadata": {},
   "outputs": [
    {
     "name": "stdout",
     "output_type": "stream",
     "text": [
      "RMSE (fill with 0, custom model): 597.36\n"
     ]
    }
   ],
   "source": [
    "#validation data\n",
    "X_val_zero = df_val_zero[['ram', 'storage', 'screen']].values  # Feature matrix for validation\n",
    "y_val = df_val_zero['final_price'].values  # Target variable for validation\n",
    "ones_val = np.ones(X_val_zero.shape[0])  # Creating an array of ones for intercept\n",
    "X_val_zero_with_ones = np.column_stack([ones_val, X_val_zero])  # Adding intercept column\n",
    "\n",
    "# Making predictions using the weights\n",
    "y_pred_zero = X_val_zero_with_ones.dot(np.concatenate([[intercept_zero], weights_zero]))\n",
    "\n",
    "# Calculating RMSE for the validation set\n",
    "rmse_zero = np.sqrt(np.mean((y_val - y_pred_zero) ** 2))  # Manual RMSE calculation\n",
    "print(f\"RMSE (fill with 0, custom model): {round(rmse_zero, 2)}\")\n"
   ]
  },
  {
   "cell_type": "code",
   "execution_count": 68,
   "id": "1058c270-dbfc-45be-b877-fc897e39781d",
   "metadata": {},
   "outputs": [
    {
     "name": "stdout",
     "output_type": "stream",
     "text": [
      "Intercept (fill with mean): 676.8954853003862\n",
      "Weights (fill with mean): [ 43.70681555   0.86506867 -36.10399833]\n",
      "RMSE (fill with mean, custom model): 597.36\n"
     ]
    }
   ],
   "source": [
    "# with mean\n",
    "def train_linear_regression(X, y):\n",
    "    ones = np.ones(X.shape[0])\n",
    "    X = np.column_stack([ones, X])  \n",
    "    XTX = X.T.dot(X)  # X transpose times X\n",
    "    XTX_inv = np.linalg.inv(XTX)  # Inverse of XTX\n",
    "    w = XTX_inv.dot(X.T).dot(y)  # Calculate the weights\n",
    "    \n",
    "    return w[0], w[1:]  \n",
    "mean_ram = df_train_zero['ram'].mean()\n",
    "df_train_mean = df_train_zero.copy()\n",
    "df_train_mean['ram'] = df_train_mean['ram'].fillna(mean_ram)\n",
    "\n",
    "df_val_mean = df_val_zero.copy()\n",
    "df_val_mean['ram'] = df_val_mean['ram'].fillna(mean_ram) \n",
    "X_train_mean = df_train_mean[['ram', 'storage', 'screen']].values  # Feature matrix\n",
    "y_train_mean = df_train_mean['final_price'].values  # Target variable\n",
    "X_val_mean = df_val_mean[['ram', 'storage', 'screen']].values  # Feature matrix for validation\n",
    "y_val_mean = df_val_mean['final_price'].values  # Target variable for validation\n",
    "intercept_mean, weights_mean = train_linear_regression(X_train_mean, y_train_mean)\n",
    "print(f\"Intercept (fill with mean): {intercept_mean}\")\n",
    "print(f\"Weights (fill with mean): {weights_mean}\")\n",
    "ones_val_mean = np.ones(X_val_mean.shape[0])  # Creating an array of ones for intercept\n",
    "X_val_mean_with_ones = np.column_stack([ones_val_mean, X_val_mean])  # Adding intercept column\n",
    "\n",
    "# Making predictions using the weights\n",
    "y_pred_mean = X_val_mean_with_ones.dot(np.concatenate([[intercept_mean], weights_mean]))\n",
    "\n",
    "# Calculating RMSE for the validation set\n",
    "rmse_mean = np.sqrt(np.mean((y_val_mean - y_pred_mean) ** 2))\n",
    "print(f\"RMSE (fill with mean, custom model): {round(rmse_mean, 2)}\")\n",
    "\n",
    "\n"
   ]
  },
  {
   "cell_type": "markdown",
   "id": "06282638-a952-4d4c-9bb4-c32ca9133b31",
   "metadata": {},
   "source": [
    "## REGUALARISED LINEAR REGRESSION "
   ]
  },
  {
   "cell_type": "code",
   "execution_count": 16,
   "id": "90fa15bf-fbd1-425c-821c-f0aebfd98330",
   "metadata": {},
   "outputs": [],
   "source": [
    "import pandas as pd\n",
    "import numpy as np\n",
    "df=pd.read_csv(r\"C:\\Users\\hillarik\\Desktop\\MLzoomcamp\\data\\laptops.csv\")\n",
    "df.columns =df.columns.str.lower().str.replace(' ','_')\n",
    "df_filtered = df[['ram', 'storage', 'screen', 'final_price']]\n",
    "df_shuffled = df.sample(frac=1, random_state=42).reset_index(drop=True)"
   ]
  },
  {
   "cell_type": "code",
   "execution_count": 17,
   "id": "74b53f2e-9ae8-4d5b-9cda-a138799d5447",
   "metadata": {},
   "outputs": [],
   "source": [
    " n = len(df)\n",
    "train_size = int(0.6 * n)\n",
    "val_size = int(0.2 * n)\n",
    "\n",
    "# Split the dataset\n",
    "df_train_zero = df.iloc[:train_size]  # First 60% for training\n",
    "df_val_zero = df.iloc[train_size:train_size + val_size]  # Next 20% for validation\n",
    "\n",
    "#  filling  the missing values and prepare the features\n",
    "X_train_zero = df_train_zero[['ram', 'storage', 'screen']].fillna(0).values  # Fill NAs with 0 \n",
    "y_train = df_train_zero['final_price'].values  # Target variable \n",
    "\n",
    "X_val_zero = df_val_zero[['ram', 'storage', 'screen']].fillna(0).values  # Fill NAs with 0 \n",
    "y_val = df_val_zero['final_price'].values  # Target variable\n",
    "\n",
    "# regualarization\n",
    "regularization_params = [0, 0.01, 0.1, 1, 5, 10, 100]\n",
    "rmse_results = []"
   ]
  },
  {
   "cell_type": "code",
   "execution_count": 18,
   "id": "e1aee266-8fa4-4a19-8a77-cebb71aa29f0",
   "metadata": {},
   "outputs": [
    {
     "name": "stdout",
     "output_type": "stream",
     "text": [
      "r=0: RMSE=734.72\n",
      "r=0.01: RMSE=734.72\n",
      "r=0.1: RMSE=734.72\n",
      "r=1: RMSE=734.72\n",
      "r=5: RMSE=734.73\n",
      "r=10: RMSE=734.73\n",
      "r=100: RMSE=734.86\n",
      "Best r: 0, Best RMSE: 734.72\n"
     ]
    }
   ],
   "source": [
    "for r in regularization_params:\n",
    "# Training the Ridge Regression model for each r\n",
    "    intercept_zero, weights_zero = train_ridge_regression(X_train_zero, y_train, r)\n",
    "    \n",
    "# Adding the intercept to the validation data\n",
    "    X_val_zero_with_ones = np.column_stack([np.ones(X_val_zero.shape[0]), X_val_zero])\n",
    "    \n",
    "# Making predictions\n",
    "    y_pred_zero = X_val_zero_with_ones.dot(np.concatenate([[intercept_zero], weights_zero]))\n",
    "    \n",
    " # Calculating RMSE\n",
    "    rmse = np.sqrt(np.mean((y_val - y_pred_zero) ** 2))\n",
    "    rmse_results.append((r, rmse))\n",
    "    \n",
    "    print(f\"r={r}: RMSE={round(rmse, 2)}\")\n",
    "\n",
    "# Finding the best r \n",
    "best_r, best_rmse = min(rmse_results, key=lambda x: x[1])\n",
    "print(f\"Best r: {best_r}, Best RMSE: {round(best_rmse, 2)}\")"
   ]
  },
  {
   "cell_type": "markdown",
   "id": "44b6960b-eb5b-4c8e-a2f4-ba16806259d4",
   "metadata": {},
   "source": [
    "##QUESTION 5"
   ]
  },
  {
   "cell_type": "code",
   "execution_count": 21,
   "id": "b5beb1bc-4b53-411c-8acc-a1fe460bcba4",
   "metadata": {},
   "outputs": [
    {
     "name": "stdout",
     "output_type": "stream",
     "text": [
      "RMSE Scores: [565.4520868770983, 636.7985423056728, 588.9558697907958, 597.8148920012524, 571.9627915111038, 573.2383256618933, 647.343832840719, 550.4398184485982, 587.3335036169883, 576.1017929433114]\n",
      "Standard Deviation of RMSE: 29.176\n"
     ]
    }
   ],
   "source": [
    "import pandas as pd\n",
    "import numpy as np\n",
    "df=pd.read_csv(r\"C:\\Users\\hillarik\\Desktop\\MLzoomcamp\\data\\laptops.csv\")\n",
    "df.columns =df.columns.str.lower().str.replace(' ','_')\n",
    "df_filtered = df[['ram', 'storage', 'screen', 'final_price']]\n",
    "def train_linear_regression(X, y):\n",
    "    ones = np.ones(X.shape[0])  # Creating an array of ones for the intercept\n",
    "    X = np.column_stack([ones, X])  # Adding the intercept column to the features\n",
    "\n",
    "    # Calculating weights using the normal equation\n",
    "    XTX = X.T.dot(X)  # X transpose times X\n",
    "    XTX_inv = np.linalg.inv(XTX)  # Inverse of XTX\n",
    "    w = XTX_inv.dot(X.T).dot(y)  # Calculating the weights\n",
    "    \n",
    "    return w[0], w[1:]  # Return the intercept and weights\n",
    "\n",
    "# Storing RMSE results\n",
    "rmse_scores = []\n",
    "# different seed values to capture rang(0,1,2,3,4,5,6,7,8,9)\n",
    "for seed in range(10):\n",
    "    # Shuffling and spliting the dataset manually using the seed\n",
    "    df_shuffled = df.sample(frac=1, random_state=seed).reset_index(drop=True)\n",
    "    \n",
    "    # Spliting the data: 60% train, 20% validation, 20% test\n",
    "    train_size = int(0.6 * len(df_shuffled))\n",
    "    val_size = int(0.2 * len(df_shuffled))\n",
    "    \n",
    "    df_train = df_shuffled.iloc[:train_size]\n",
    "    df_val = df_shuffled.iloc[train_size:train_size + val_size]\n",
    "    \n",
    "    # Fill missing values with 0\n",
    "    X_train = df_train[['ram', 'storage', 'screen']].fillna(0).values  # Features for training\n",
    "    y_train = df_train['final_price'].fillna(0).values  # Target variable for training\n",
    "    \n",
    "    X_val = df_val[['ram', 'storage', 'screen']].fillna(0).values  # Features for validation\n",
    "    y_val = df_val['final_price'].fillna(0).values  # Target variable for validation\n",
    "\n",
    "    # Training the linear regression model\n",
    "    intercept, weights = train_linear_regression(X_train, y_train)\n",
    "\n",
    "    # Adding intercept to validation data\n",
    "    X_val_with_ones = np.column_stack([np.ones(X_val.shape[0]), X_val])\n",
    "    \n",
    "    # Making predictions\n",
    "    y_pred = X_val_with_ones.dot(np.concatenate([[intercept], weights]))\n",
    "\n",
    "    # Calculating RMSE\n",
    "    rmse = np.sqrt(np.mean((y_val - y_pred) ** 2))\n",
    "    rmse_scores.append(rmse)\n",
    "\n",
    "# Calculating standard deviation of RMSE scores\n",
    "std_rmse = np.std(rmse_scores)\n",
    "print(f\"RMSE Scores: {rmse_scores}\")\n",
    "print(f\"Standard Deviation of RMSE: {round(std_rmse, 3)}\")\n",
    "\n"
   ]
  },
  {
   "cell_type": "markdown",
   "id": "47a7c60d-02a1-4d97-9daa-de3df1c8efab",
   "metadata": {},
   "source": [
    "##QUESTION 6"
   ]
  },
  {
   "cell_type": "code",
   "execution_count": 27,
   "id": "d3e53152-f945-4435-9124-91c231ecba24",
   "metadata": {},
   "outputs": [],
   "source": [
    "import numpy as np\n",
    "import pandas as pd\n",
    "\n",
    "df = pd.read_csv(r\"C:\\Users\\hillarik\\Desktop\\MLzoomcamp\\data\\laptops.csv\")\n",
    "df.columns = df.columns.str.lower().str.replace(' ', '_')\n",
    "df_filtered = df[['ram', 'storage', 'screen', 'final_price']]\n"
   ]
  },
  {
   "cell_type": "code",
   "execution_count": 28,
   "id": "db6b34f9-4057-4cdc-9889-1d74d50f13c8",
   "metadata": {},
   "outputs": [],
   "source": [
    "np.random.seed(9)\n",
    "df_shuffled = df.sample(frac=1).reset_index(drop=True)  # Shuffle the dataset\n"
   ]
  },
  {
   "cell_type": "code",
   "execution_count": 29,
   "id": "08c21efa-e6d0-4ac5-832a-4528a5017705",
   "metadata": {},
   "outputs": [],
   "source": [
    "# Creating datasets\n",
    "df_train_val = df_shuffled[:train_size + val_size]\n",
    "df_test = df_shuffled[train_size + val_size:]\n",
    "\n",
    "# split into train and validation, using copy()\n",
    "df_train = df_train_val[:train_size].copy()\n",
    "df_val = df_train_val[train_size:].copy()\n",
    "\n",
    "# Filling missing values with 0\n",
    "df_train.fillna(0, inplace=True)\n",
    "df_val.fillna(0, inplace=True)\n",
    "df_test = df_test.copy()  # Make a copy for the test set\n",
    "df_test.fillna(0, inplace=True)\n"
   ]
  },
  {
   "cell_type": "code",
   "execution_count": 30,
   "id": "a2ceb103-d9ac-423f-8201-b7ca653bc898",
   "metadata": {},
   "outputs": [],
   "source": [
    "X_train_val = df_train[['ram', 'storage', 'screen']].values\n",
    "y_train_val = df_train['final_price'].values\n"
   ]
  },
  {
   "cell_type": "code",
   "execution_count": 31,
   "id": "178ffe78-c695-42ba-8d89-777caf3af20c",
   "metadata": {},
   "outputs": [],
   "source": [
    "def train_ridge_regression(X, y, r):\n",
    "    ones = np.ones(X.shape[0])\n",
    "    X = np.column_stack([ones, X])\n",
    "    identity_matrix = np.eye(X.shape[1])\n",
    "    identity_matrix[0, 0] = 0  # Don't regularize the intercept\n",
    "    XTX = X.T.dot(X) + r * identity_matrix\n",
    "    XTX_inv = np.linalg.inv(XTX)\n",
    "    w = XTX_inv.dot(X.T).dot(y)\n",
    "    \n",
    "    return w[0], w[1:]\n",
    "\n",
    "r = 0.001\n",
    "intercept, weights = train_ridge_regression(X_train_val, y_train_val, r)\n"
   ]
  },
  {
   "cell_type": "code",
   "execution_count": 32,
   "id": "43d7049b-f270-4a20-b564-0bf559a40fca",
   "metadata": {},
   "outputs": [],
   "source": [
    "X_test = df_test[['ram', 'storage', 'screen']].fillna(0).values\n",
    "y_test = df_test['final_price'].values\n",
    "\n",
    "X_test_with_ones = np.column_stack([np.ones(X_test.shape[0]), X_test])\n",
    "\n",
    "y_pred = X_test_with_ones.dot(np.concatenate([[intercept], weights]))\n"
   ]
  },
  {
   "cell_type": "code",
   "execution_count": 33,
   "id": "c5303428-f574-4e39-a241-b46bf3f8f794",
   "metadata": {},
   "outputs": [
    {
     "name": "stdout",
     "output_type": "stream",
     "text": [
      "RMSE on the test dataset: 614.11\n"
     ]
    }
   ],
   "source": [
    "rmse_test = np.sqrt(np.mean((y_test - y_pred) ** 2))\n",
    "print(f\"RMSE on the test dataset: {round(rmse_test, 2)}\")\n"
   ]
  },
  {
   "cell_type": "code",
   "execution_count": null,
   "id": "7600cbd3-9030-44aa-b78e-8a68ca591f4e",
   "metadata": {},
   "outputs": [],
   "source": []
  }
 ],
 "metadata": {
  "kernelspec": {
   "display_name": "Python 3 (ipykernel)",
   "language": "python",
   "name": "python3"
  },
  "language_info": {
   "codemirror_mode": {
    "name": "ipython",
    "version": 3
   },
   "file_extension": ".py",
   "mimetype": "text/x-python",
   "name": "python",
   "nbconvert_exporter": "python",
   "pygments_lexer": "ipython3",
   "version": "3.11.8"
  }
 },
 "nbformat": 4,
 "nbformat_minor": 5
}
