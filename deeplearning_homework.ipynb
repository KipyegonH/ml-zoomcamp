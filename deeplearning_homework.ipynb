{
 "cells": [
  {
   "cell_type": "code",
   "execution_count": 1,
   "id": "53647544-7396-4d90-8027-8513fcfe9281",
   "metadata": {
    "execution": {
     "iopub.execute_input": "2024-12-02T15:39:06.944458Z",
     "iopub.status.busy": "2024-12-02T15:39:06.944228Z",
     "iopub.status.idle": "2024-12-02T15:39:06.947573Z",
     "shell.execute_reply": "2024-12-02T15:39:06.946942Z",
     "shell.execute_reply.started": "2024-12-02T15:39:06.944438Z"
    }
   },
   "outputs": [],
   "source": [
    "#!pip install tensorflow==2.17.1\n",
    "import warnings\n",
    "warnings.filterwarnings(action='ignore')"
   ]
  },
  {
   "cell_type": "code",
   "execution_count": 2,
   "id": "c0e2b8d8-8c42-4e63-8618-03bfec316ab1",
   "metadata": {
    "execution": {
     "iopub.execute_input": "2024-12-02T15:39:06.948674Z",
     "iopub.status.busy": "2024-12-02T15:39:06.948239Z",
     "iopub.status.idle": "2024-12-02T15:39:09.586015Z",
     "shell.execute_reply": "2024-12-02T15:39:09.585430Z",
     "shell.execute_reply.started": "2024-12-02T15:39:06.948643Z"
    }
   },
   "outputs": [
    {
     "name": "stderr",
     "output_type": "stream",
     "text": [
      "2024-12-02 15:39:07.261097: I tensorflow/core/util/port.cc:153] oneDNN custom operations are on. You may see slightly different numerical results due to floating-point round-off errors from different computation orders. To turn them off, set the environment variable `TF_ENABLE_ONEDNN_OPTS=0`.\n",
      "2024-12-02 15:39:07.278992: E external/local_xla/xla/stream_executor/cuda/cuda_fft.cc:485] Unable to register cuFFT factory: Attempting to register factory for plugin cuFFT when one has already been registered\n",
      "2024-12-02 15:39:07.298812: E external/local_xla/xla/stream_executor/cuda/cuda_dnn.cc:8454] Unable to register cuDNN factory: Attempting to register factory for plugin cuDNN when one has already been registered\n",
      "2024-12-02 15:39:07.304870: E external/local_xla/xla/stream_executor/cuda/cuda_blas.cc:1452] Unable to register cuBLAS factory: Attempting to register factory for plugin cuBLAS when one has already been registered\n",
      "2024-12-02 15:39:07.319989: I tensorflow/core/platform/cpu_feature_guard.cc:210] This TensorFlow binary is optimized to use available CPU instructions in performance-critical operations.\n",
      "To enable the following instructions: AVX2 AVX512F AVX512_VNNI FMA, in other operations, rebuild TensorFlow with the appropriate compiler flags.\n",
      "2024-12-02 15:39:08.135303: W tensorflow/compiler/tf2tensorrt/utils/py_utils.cc:38] TF-TRT Warning: Could not find TensorRT\n"
     ]
    }
   ],
   "source": [
    "import numpy as np\n",
    "import tensorflow as tf\n",
    "import os\n",
    "import shutil\n",
    "\n",
    "import matplotlib.pyplot as plt\n",
    "\n",
    "from tensorflow import keras\n",
    "\n",
    "from tensorflow.keras import layers\n",
    "from tensorflow.keras import models\n",
    "from tensorflow.keras import optimizers\n",
    "\n",
    "from tensorflow.keras.preprocessing.image import ImageDataGenerator\n",
    "from tensorflow.keras.preprocessing import image\n"
   ]
  },
  {
   "cell_type": "code",
   "execution_count": 3,
   "id": "8c7b011a-d94a-48a5-b81c-6f1a0ca16c63",
   "metadata": {
    "execution": {
     "iopub.execute_input": "2024-12-02T15:39:09.587321Z",
     "iopub.status.busy": "2024-12-02T15:39:09.586723Z",
     "iopub.status.idle": "2024-12-02T15:39:09.590921Z",
     "shell.execute_reply": "2024-12-02T15:39:09.590343Z",
     "shell.execute_reply.started": "2024-12-02T15:39:09.587295Z"
    }
   },
   "outputs": [],
   "source": [
    "SEED = 42\n",
    "np.random.seed(SEED)\n",
    "tf.random.set_seed(SEED)"
   ]
  },
  {
   "cell_type": "code",
   "execution_count": 4,
   "id": "1dd275c0-2530-4cb7-90c4-0f3f0e9a1c61",
   "metadata": {
    "execution": {
     "iopub.execute_input": "2024-12-02T15:39:09.592214Z",
     "iopub.status.busy": "2024-12-02T15:39:09.591633Z",
     "iopub.status.idle": "2024-12-02T15:39:09.600418Z",
     "shell.execute_reply": "2024-12-02T15:39:09.599962Z",
     "shell.execute_reply.started": "2024-12-02T15:39:09.592185Z"
    }
   },
   "outputs": [
    {
     "data": {
      "text/plain": [
       "'2.17.1'"
      ]
     },
     "execution_count": 4,
     "metadata": {},
     "output_type": "execute_result"
    }
   ],
   "source": [
    "tf.__version__"
   ]
  },
  {
   "cell_type": "code",
   "execution_count": 5,
   "id": "c69f3079-4666-4f00-9e5c-4abb094a1c02",
   "metadata": {
    "execution": {
     "iopub.execute_input": "2024-12-02T15:39:09.601509Z",
     "iopub.status.busy": "2024-12-02T15:39:09.601117Z",
     "iopub.status.idle": "2024-12-02T15:39:09.606272Z",
     "shell.execute_reply": "2024-12-02T15:39:09.605777Z",
     "shell.execute_reply.started": "2024-12-02T15:39:09.601477Z"
    }
   },
   "outputs": [],
   "source": [
    "#!wget https://github.com/SVizor42/ML_Zoomcamp/releases/download/straight-curly-data/data.zip\n",
    "#!unzip data.zip"
   ]
  },
  {
   "cell_type": "code",
   "execution_count": 6,
   "id": "385e92c5-ee4b-4786-a337-842f8f342da5",
   "metadata": {
    "execution": {
     "iopub.execute_input": "2024-12-02T15:39:09.608254Z",
     "iopub.status.busy": "2024-12-02T15:39:09.607988Z",
     "iopub.status.idle": "2024-12-02T15:39:10.536922Z",
     "shell.execute_reply": "2024-12-02T15:39:10.536405Z",
     "shell.execute_reply.started": "2024-12-02T15:39:09.608230Z"
    }
   },
   "outputs": [
    {
     "name": "stderr",
     "output_type": "stream",
     "text": [
      "WARNING: All log messages before absl::InitializeLog() is called are written to STDERR\n",
      "I0000 00:00:1733153949.620242   20128 cuda_executor.cc:1015] successful NUMA node read from SysFS had negative value (-1), but there must be at least one NUMA node, so returning NUMA node zero. See more at https://github.com/torvalds/linux/blob/v6.0/Documentation/ABI/testing/sysfs-bus-pci#L344-L355\n",
      "I0000 00:00:1733153949.668310   20128 cuda_executor.cc:1015] successful NUMA node read from SysFS had negative value (-1), but there must be at least one NUMA node, so returning NUMA node zero. See more at https://github.com/torvalds/linux/blob/v6.0/Documentation/ABI/testing/sysfs-bus-pci#L344-L355\n",
      "I0000 00:00:1733153949.668539   20128 cuda_executor.cc:1015] successful NUMA node read from SysFS had negative value (-1), but there must be at least one NUMA node, so returning NUMA node zero. See more at https://github.com/torvalds/linux/blob/v6.0/Documentation/ABI/testing/sysfs-bus-pci#L344-L355\n",
      "I0000 00:00:1733153949.669350   20128 cuda_executor.cc:1015] successful NUMA node read from SysFS had negative value (-1), but there must be at least one NUMA node, so returning NUMA node zero. See more at https://github.com/torvalds/linux/blob/v6.0/Documentation/ABI/testing/sysfs-bus-pci#L344-L355\n",
      "I0000 00:00:1733153949.669555   20128 cuda_executor.cc:1015] successful NUMA node read from SysFS had negative value (-1), but there must be at least one NUMA node, so returning NUMA node zero. See more at https://github.com/torvalds/linux/blob/v6.0/Documentation/ABI/testing/sysfs-bus-pci#L344-L355\n",
      "I0000 00:00:1733153949.669689   20128 cuda_executor.cc:1015] successful NUMA node read from SysFS had negative value (-1), but there must be at least one NUMA node, so returning NUMA node zero. See more at https://github.com/torvalds/linux/blob/v6.0/Documentation/ABI/testing/sysfs-bus-pci#L344-L355\n",
      "I0000 00:00:1733153949.740289   20128 cuda_executor.cc:1015] successful NUMA node read from SysFS had negative value (-1), but there must be at least one NUMA node, so returning NUMA node zero. See more at https://github.com/torvalds/linux/blob/v6.0/Documentation/ABI/testing/sysfs-bus-pci#L344-L355\n",
      "I0000 00:00:1733153949.740494   20128 cuda_executor.cc:1015] successful NUMA node read from SysFS had negative value (-1), but there must be at least one NUMA node, so returning NUMA node zero. See more at https://github.com/torvalds/linux/blob/v6.0/Documentation/ABI/testing/sysfs-bus-pci#L344-L355\n",
      "I0000 00:00:1733153949.740642   20128 cuda_executor.cc:1015] successful NUMA node read from SysFS had negative value (-1), but there must be at least one NUMA node, so returning NUMA node zero. See more at https://github.com/torvalds/linux/blob/v6.0/Documentation/ABI/testing/sysfs-bus-pci#L344-L355\n",
      "2024-12-02 15:39:09.740756: I tensorflow/core/common_runtime/gpu/gpu_device.cc:2021] Created device /job:localhost/replica:0/task:0/device:GPU:0 with 693 MB memory:  -> device: 0, name: Tesla T4, pci bus id: 0000:00:1e.0, compute capability: 7.5\n"
     ]
    }
   ],
   "source": [
    "model = models.Sequential()\n",
    "\n",
    "model.add(layers.Conv2D(32, (3, 3), activation='relu',\n",
    "                        input_shape=(200, 200, 3)))\n",
    "model.add(layers.MaxPooling2D((2, 2)))\n",
    "model.add(layers.Flatten())\n",
    "model.add(layers.Dense(64, activation='relu'))\n",
    "model.add(layers.Dense(1, activation='sigmoid'))"
   ]
  },
  {
   "cell_type": "code",
   "execution_count": 7,
   "id": "8f104f65-8c0b-434e-a32b-5032ecb0f449",
   "metadata": {
    "execution": {
     "iopub.execute_input": "2024-12-02T15:39:10.537997Z",
     "iopub.status.busy": "2024-12-02T15:39:10.537625Z",
     "iopub.status.idle": "2024-12-02T15:39:10.548326Z",
     "shell.execute_reply": "2024-12-02T15:39:10.547887Z",
     "shell.execute_reply.started": "2024-12-02T15:39:10.537926Z"
    }
   },
   "outputs": [],
   "source": [
    "model.compile(loss='binary_crossentropy',\\\n",
    "             optimizer=optimizers.SGD(learning_rate=0.002, momentum=0.8),\\\n",
    "             metrics=['acc'])"
   ]
  },
  {
   "cell_type": "code",
   "execution_count": 8,
   "id": "40727b32-35f9-489c-9adf-3fa85f106960",
   "metadata": {
    "execution": {
     "iopub.execute_input": "2024-12-02T15:39:10.549110Z",
     "iopub.status.busy": "2024-12-02T15:39:10.548870Z",
     "iopub.status.idle": "2024-12-02T15:39:10.563395Z",
     "shell.execute_reply": "2024-12-02T15:39:10.562894Z",
     "shell.execute_reply.started": "2024-12-02T15:39:10.549090Z"
    }
   },
   "outputs": [
    {
     "data": {
      "text/html": [
       "<pre style=\"white-space:pre;overflow-x:auto;line-height:normal;font-family:Menlo,'DejaVu Sans Mono',consolas,'Courier New',monospace\"><span style=\"font-weight: bold\">Model: \"sequential\"</span>\n",
       "</pre>\n"
      ],
      "text/plain": [
       "\u001b[1mModel: \"sequential\"\u001b[0m\n"
      ]
     },
     "metadata": {},
     "output_type": "display_data"
    },
    {
     "data": {
      "text/html": [
       "<pre style=\"white-space:pre;overflow-x:auto;line-height:normal;font-family:Menlo,'DejaVu Sans Mono',consolas,'Courier New',monospace\">┏━━━━━━━━━━━━━━━━━━━━━━━━━━━━━━━━━┳━━━━━━━━━━━━━━━━━━━━━━━━┳━━━━━━━━━━━━━━━┓\n",
       "┃<span style=\"font-weight: bold\"> Layer (type)                    </span>┃<span style=\"font-weight: bold\"> Output Shape           </span>┃<span style=\"font-weight: bold\">       Param # </span>┃\n",
       "┡━━━━━━━━━━━━━━━━━━━━━━━━━━━━━━━━━╇━━━━━━━━━━━━━━━━━━━━━━━━╇━━━━━━━━━━━━━━━┩\n",
       "│ conv2d (<span style=\"color: #0087ff; text-decoration-color: #0087ff\">Conv2D</span>)                 │ (<span style=\"color: #00d7ff; text-decoration-color: #00d7ff\">None</span>, <span style=\"color: #00af00; text-decoration-color: #00af00\">198</span>, <span style=\"color: #00af00; text-decoration-color: #00af00\">198</span>, <span style=\"color: #00af00; text-decoration-color: #00af00\">32</span>)   │           <span style=\"color: #00af00; text-decoration-color: #00af00\">896</span> │\n",
       "├─────────────────────────────────┼────────────────────────┼───────────────┤\n",
       "│ max_pooling2d (<span style=\"color: #0087ff; text-decoration-color: #0087ff\">MaxPooling2D</span>)    │ (<span style=\"color: #00d7ff; text-decoration-color: #00d7ff\">None</span>, <span style=\"color: #00af00; text-decoration-color: #00af00\">99</span>, <span style=\"color: #00af00; text-decoration-color: #00af00\">99</span>, <span style=\"color: #00af00; text-decoration-color: #00af00\">32</span>)     │             <span style=\"color: #00af00; text-decoration-color: #00af00\">0</span> │\n",
       "├─────────────────────────────────┼────────────────────────┼───────────────┤\n",
       "│ flatten (<span style=\"color: #0087ff; text-decoration-color: #0087ff\">Flatten</span>)               │ (<span style=\"color: #00d7ff; text-decoration-color: #00d7ff\">None</span>, <span style=\"color: #00af00; text-decoration-color: #00af00\">313632</span>)         │             <span style=\"color: #00af00; text-decoration-color: #00af00\">0</span> │\n",
       "├─────────────────────────────────┼────────────────────────┼───────────────┤\n",
       "│ dense (<span style=\"color: #0087ff; text-decoration-color: #0087ff\">Dense</span>)                   │ (<span style=\"color: #00d7ff; text-decoration-color: #00d7ff\">None</span>, <span style=\"color: #00af00; text-decoration-color: #00af00\">64</span>)             │    <span style=\"color: #00af00; text-decoration-color: #00af00\">20,072,512</span> │\n",
       "├─────────────────────────────────┼────────────────────────┼───────────────┤\n",
       "│ dense_1 (<span style=\"color: #0087ff; text-decoration-color: #0087ff\">Dense</span>)                 │ (<span style=\"color: #00d7ff; text-decoration-color: #00d7ff\">None</span>, <span style=\"color: #00af00; text-decoration-color: #00af00\">1</span>)              │            <span style=\"color: #00af00; text-decoration-color: #00af00\">65</span> │\n",
       "└─────────────────────────────────┴────────────────────────┴───────────────┘\n",
       "</pre>\n"
      ],
      "text/plain": [
       "┏━━━━━━━━━━━━━━━━━━━━━━━━━━━━━━━━━┳━━━━━━━━━━━━━━━━━━━━━━━━┳━━━━━━━━━━━━━━━┓\n",
       "┃\u001b[1m \u001b[0m\u001b[1mLayer (type)                   \u001b[0m\u001b[1m \u001b[0m┃\u001b[1m \u001b[0m\u001b[1mOutput Shape          \u001b[0m\u001b[1m \u001b[0m┃\u001b[1m \u001b[0m\u001b[1m      Param #\u001b[0m\u001b[1m \u001b[0m┃\n",
       "┡━━━━━━━━━━━━━━━━━━━━━━━━━━━━━━━━━╇━━━━━━━━━━━━━━━━━━━━━━━━╇━━━━━━━━━━━━━━━┩\n",
       "│ conv2d (\u001b[38;5;33mConv2D\u001b[0m)                 │ (\u001b[38;5;45mNone\u001b[0m, \u001b[38;5;34m198\u001b[0m, \u001b[38;5;34m198\u001b[0m, \u001b[38;5;34m32\u001b[0m)   │           \u001b[38;5;34m896\u001b[0m │\n",
       "├─────────────────────────────────┼────────────────────────┼───────────────┤\n",
       "│ max_pooling2d (\u001b[38;5;33mMaxPooling2D\u001b[0m)    │ (\u001b[38;5;45mNone\u001b[0m, \u001b[38;5;34m99\u001b[0m, \u001b[38;5;34m99\u001b[0m, \u001b[38;5;34m32\u001b[0m)     │             \u001b[38;5;34m0\u001b[0m │\n",
       "├─────────────────────────────────┼────────────────────────┼───────────────┤\n",
       "│ flatten (\u001b[38;5;33mFlatten\u001b[0m)               │ (\u001b[38;5;45mNone\u001b[0m, \u001b[38;5;34m313632\u001b[0m)         │             \u001b[38;5;34m0\u001b[0m │\n",
       "├─────────────────────────────────┼────────────────────────┼───────────────┤\n",
       "│ dense (\u001b[38;5;33mDense\u001b[0m)                   │ (\u001b[38;5;45mNone\u001b[0m, \u001b[38;5;34m64\u001b[0m)             │    \u001b[38;5;34m20,072,512\u001b[0m │\n",
       "├─────────────────────────────────┼────────────────────────┼───────────────┤\n",
       "│ dense_1 (\u001b[38;5;33mDense\u001b[0m)                 │ (\u001b[38;5;45mNone\u001b[0m, \u001b[38;5;34m1\u001b[0m)              │            \u001b[38;5;34m65\u001b[0m │\n",
       "└─────────────────────────────────┴────────────────────────┴───────────────┘\n"
      ]
     },
     "metadata": {},
     "output_type": "display_data"
    },
    {
     "data": {
      "text/html": [
       "<pre style=\"white-space:pre;overflow-x:auto;line-height:normal;font-family:Menlo,'DejaVu Sans Mono',consolas,'Courier New',monospace\"><span style=\"font-weight: bold\"> Total params: </span><span style=\"color: #00af00; text-decoration-color: #00af00\">20,073,473</span> (76.57 MB)\n",
       "</pre>\n"
      ],
      "text/plain": [
       "\u001b[1m Total params: \u001b[0m\u001b[38;5;34m20,073,473\u001b[0m (76.57 MB)\n"
      ]
     },
     "metadata": {},
     "output_type": "display_data"
    },
    {
     "data": {
      "text/html": [
       "<pre style=\"white-space:pre;overflow-x:auto;line-height:normal;font-family:Menlo,'DejaVu Sans Mono',consolas,'Courier New',monospace\"><span style=\"font-weight: bold\"> Trainable params: </span><span style=\"color: #00af00; text-decoration-color: #00af00\">20,073,473</span> (76.57 MB)\n",
       "</pre>\n"
      ],
      "text/plain": [
       "\u001b[1m Trainable params: \u001b[0m\u001b[38;5;34m20,073,473\u001b[0m (76.57 MB)\n"
      ]
     },
     "metadata": {},
     "output_type": "display_data"
    },
    {
     "data": {
      "text/html": [
       "<pre style=\"white-space:pre;overflow-x:auto;line-height:normal;font-family:Menlo,'DejaVu Sans Mono',consolas,'Courier New',monospace\"><span style=\"font-weight: bold\"> Non-trainable params: </span><span style=\"color: #00af00; text-decoration-color: #00af00\">0</span> (0.00 B)\n",
       "</pre>\n"
      ],
      "text/plain": [
       "\u001b[1m Non-trainable params: \u001b[0m\u001b[38;5;34m0\u001b[0m (0.00 B)\n"
      ]
     },
     "metadata": {},
     "output_type": "display_data"
    }
   ],
   "source": [
    "model.summary()\n"
   ]
  },
  {
   "cell_type": "code",
   "execution_count": 9,
   "id": "bb23481c-0813-482c-87a7-9e9937e69e34",
   "metadata": {
    "execution": {
     "iopub.execute_input": "2024-12-02T15:39:10.564145Z",
     "iopub.status.busy": "2024-12-02T15:39:10.563928Z",
     "iopub.status.idle": "2024-12-02T15:39:10.567015Z",
     "shell.execute_reply": "2024-12-02T15:39:10.566438Z",
     "shell.execute_reply.started": "2024-12-02T15:39:10.564129Z"
    }
   },
   "outputs": [],
   "source": [
    "train_gen = ImageDataGenerator(rescale=1./255)\n",
    "val_gen = ImageDataGenerator(rescale=1./255)"
   ]
  },
  {
   "cell_type": "code",
   "execution_count": 10,
   "id": "2673514f-e93d-4652-9362-171a78f85379",
   "metadata": {
    "execution": {
     "iopub.execute_input": "2024-12-02T15:39:10.567867Z",
     "iopub.status.busy": "2024-12-02T15:39:10.567608Z",
     "iopub.status.idle": "2024-12-02T15:39:10.592870Z",
     "shell.execute_reply": "2024-12-02T15:39:10.592384Z",
     "shell.execute_reply.started": "2024-12-02T15:39:10.567844Z"
    }
   },
   "outputs": [
    {
     "name": "stdout",
     "output_type": "stream",
     "text": [
      "Found 800 images belonging to 2 classes.\n"
     ]
    }
   ],
   "source": [
    "train_ds = train_gen.flow_from_directory(\n",
    "    'data/train',\n",
    "    target_size=(200, 200),\n",
    "    batch_size=20,\n",
    "    class_mode='binary'\n",
    ")"
   ]
  },
  {
   "cell_type": "code",
   "execution_count": 11,
   "id": "ab8c4875-6893-4499-8e01-06a20c1d12a2",
   "metadata": {
    "execution": {
     "iopub.execute_input": "2024-12-02T15:39:10.594139Z",
     "iopub.status.busy": "2024-12-02T15:39:10.593582Z",
     "iopub.status.idle": "2024-12-02T15:39:10.604804Z",
     "shell.execute_reply": "2024-12-02T15:39:10.604384Z",
     "shell.execute_reply.started": "2024-12-02T15:39:10.594112Z"
    }
   },
   "outputs": [
    {
     "name": "stdout",
     "output_type": "stream",
     "text": [
      "Found 201 images belonging to 2 classes.\n"
     ]
    }
   ],
   "source": [
    "validation_ds = val_gen.flow_from_directory(\n",
    "    'data/test',\n",
    "    target_size=(200, 200),\n",
    "    batch_size=20,\n",
    "    class_mode='binary'\n",
    ")"
   ]
  },
  {
   "cell_type": "code",
   "execution_count": 12,
   "id": "d168668a-6452-4709-ab56-519b532dc1d2",
   "metadata": {
    "execution": {
     "iopub.execute_input": "2024-12-02T15:39:10.605753Z",
     "iopub.status.busy": "2024-12-02T15:39:10.605444Z",
     "iopub.status.idle": "2024-12-02T15:39:10.716033Z",
     "shell.execute_reply": "2024-12-02T15:39:10.715419Z",
     "shell.execute_reply.started": "2024-12-02T15:39:10.605733Z"
    }
   },
   "outputs": [
    {
     "name": "stdout",
     "output_type": "stream",
     "text": [
      "data batch shape: (20, 200, 200, 3)\n",
      "labels batch shape: (20,)\n"
     ]
    }
   ],
   "source": [
    "data_batch, labels_batch = next(iter(train_ds))\n",
    "print('data batch shape:', data_batch.shape)\n",
    "print('labels batch shape:', labels_batch.shape)"
   ]
  },
  {
   "cell_type": "code",
   "execution_count": 13,
   "id": "cbb8780b-27dd-4f48-bd9e-1e307f13002c",
   "metadata": {
    "execution": {
     "iopub.execute_input": "2024-12-02T15:39:10.716913Z",
     "iopub.status.busy": "2024-12-02T15:39:10.716669Z",
     "iopub.status.idle": "2024-12-02T15:40:04.243211Z",
     "shell.execute_reply": "2024-12-02T15:40:04.242673Z",
     "shell.execute_reply.started": "2024-12-02T15:39:10.716895Z"
    }
   },
   "outputs": [
    {
     "name": "stdout",
     "output_type": "stream",
     "text": [
      "Epoch 1/10\n"
     ]
    },
    {
     "name": "stderr",
     "output_type": "stream",
     "text": [
      "WARNING: All log messages before absl::InitializeLog() is called are written to STDERR\n",
      "I0000 00:00:1733153951.695844   20177 service.cc:146] XLA service 0x7f0588003610 initialized for platform CUDA (this does not guarantee that XLA will be used). Devices:\n",
      "I0000 00:00:1733153951.695880   20177 service.cc:154]   StreamExecutor device (0): Tesla T4, Compute Capability 7.5\n",
      "2024-12-02 15:39:11.716853: I tensorflow/compiler/mlir/tensorflow/utils/dump_mlir_util.cc:268] disabling MLIR crash reproducer, set env var `MLIR_CRASH_REPRODUCER_DIRECTORY` to enable.\n",
      "2024-12-02 15:39:11.813301: I external/local_xla/xla/stream_executor/cuda/cuda_dnn.cc:531] Loaded cuDNN version 8907\n",
      "2024-12-02 15:39:12.235414: W external/local_tsl/tsl/framework/bfc_allocator.cc:291] Allocator (GPU_0_bfc) ran out of memory trying to allocate 464.45MiB with freed_by_count=0. The caller indicates that this is not a failure, but this may mean that there could be performance gains if more memory were available.\n"
     ]
    },
    {
     "name": "stdout",
     "output_type": "stream",
     "text": [
      "\u001b[1m 3/40\u001b[0m \u001b[32m━\u001b[0m\u001b[37m━━━━━━━━━━━━━━━━━━━\u001b[0m \u001b[1m1s\u001b[0m 40ms/step - acc: 0.4917 - loss: 0.6983"
     ]
    },
    {
     "name": "stderr",
     "output_type": "stream",
     "text": [
      "I0000 00:00:1733153953.066849   20177 device_compiler.h:188] Compiled cluster using XLA!  This line is logged at most once for the lifetime of the process.\n"
     ]
    },
    {
     "name": "stdout",
     "output_type": "stream",
     "text": [
      "\u001b[1m40/40\u001b[0m \u001b[32m━━━━━━━━━━━━━━━━━━━━\u001b[0m\u001b[37m\u001b[0m \u001b[1m0s\u001b[0m 104ms/step - acc: 0.5146 - loss: 0.7030"
     ]
    },
    {
     "name": "stderr",
     "output_type": "stream",
     "text": [
      "2024-12-02 15:39:17.579490: W external/local_tsl/tsl/framework/bfc_allocator.cc:291] Allocator (GPU_0_bfc) ran out of memory trying to allocate 400.53MiB with freed_by_count=0. The caller indicates that this is not a failure, but this may mean that there could be performance gains if more memory were available.\n",
      "2024-12-02 15:39:17.625882: W external/local_tsl/tsl/framework/bfc_allocator.cc:291] Allocator (GPU_0_bfc) ran out of memory trying to allocate 338.50MiB with freed_by_count=0. The caller indicates that this is not a failure, but this may mean that there could be performance gains if more memory were available.\n"
     ]
    },
    {
     "name": "stdout",
     "output_type": "stream",
     "text": [
      "\u001b[1m40/40\u001b[0m \u001b[32m━━━━━━━━━━━━━━━━━━━━\u001b[0m\u001b[37m\u001b[0m \u001b[1m8s\u001b[0m 155ms/step - acc: 0.5157 - loss: 0.7026 - val_acc: 0.5323 - val_loss: 0.6834\n",
      "Epoch 2/10\n",
      "\u001b[1m40/40\u001b[0m \u001b[32m━━━━━━━━━━━━━━━━━━━━\u001b[0m\u001b[37m\u001b[0m \u001b[1m5s\u001b[0m 125ms/step - acc: 0.5393 - loss: 0.6683 - val_acc: 0.6269 - val_loss: 0.6395\n",
      "Epoch 3/10\n",
      "\u001b[1m40/40\u001b[0m \u001b[32m━━━━━━━━━━━━━━━━━━━━\u001b[0m\u001b[37m\u001b[0m \u001b[1m5s\u001b[0m 125ms/step - acc: 0.7069 - loss: 0.5932 - val_acc: 0.6020 - val_loss: 0.6381\n",
      "Epoch 4/10\n",
      "\u001b[1m40/40\u001b[0m \u001b[32m━━━━━━━━━━━━━━━━━━━━\u001b[0m\u001b[37m\u001b[0m \u001b[1m5s\u001b[0m 126ms/step - acc: 0.7054 - loss: 0.5711 - val_acc: 0.6468 - val_loss: 0.6410\n",
      "Epoch 5/10\n",
      "\u001b[1m40/40\u001b[0m \u001b[32m━━━━━━━━━━━━━━━━━━━━\u001b[0m\u001b[37m\u001b[0m \u001b[1m5s\u001b[0m 125ms/step - acc: 0.7130 - loss: 0.5416 - val_acc: 0.6567 - val_loss: 0.6132\n",
      "Epoch 6/10\n",
      "\u001b[1m40/40\u001b[0m \u001b[32m━━━━━━━━━━━━━━━━━━━━\u001b[0m\u001b[37m\u001b[0m \u001b[1m5s\u001b[0m 124ms/step - acc: 0.7407 - loss: 0.5254 - val_acc: 0.6020 - val_loss: 0.6574\n",
      "Epoch 7/10\n",
      "\u001b[1m40/40\u001b[0m \u001b[32m━━━━━━━━━━━━━━━━━━━━\u001b[0m\u001b[37m\u001b[0m \u001b[1m5s\u001b[0m 125ms/step - acc: 0.7155 - loss: 0.5242 - val_acc: 0.6567 - val_loss: 0.6033\n",
      "Epoch 8/10\n",
      "\u001b[1m40/40\u001b[0m \u001b[32m━━━━━━━━━━━━━━━━━━━━\u001b[0m\u001b[37m\u001b[0m \u001b[1m5s\u001b[0m 122ms/step - acc: 0.7529 - loss: 0.4956 - val_acc: 0.6866 - val_loss: 0.5958\n",
      "Epoch 9/10\n",
      "\u001b[1m40/40\u001b[0m \u001b[32m━━━━━━━━━━━━━━━━━━━━\u001b[0m\u001b[37m\u001b[0m \u001b[1m5s\u001b[0m 127ms/step - acc: 0.7589 - loss: 0.4709 - val_acc: 0.6716 - val_loss: 0.6086\n",
      "Epoch 10/10\n",
      "\u001b[1m40/40\u001b[0m \u001b[32m━━━━━━━━━━━━━━━━━━━━\u001b[0m\u001b[37m\u001b[0m \u001b[1m5s\u001b[0m 125ms/step - acc: 0.7685 - loss: 0.4863 - val_acc: 0.6965 - val_loss: 0.5732\n"
     ]
    }
   ],
   "source": [
    "history = model.fit(\n",
    "    train_ds,\n",
    "    epochs=10,\n",
    "    validation_data=validation_ds\n",
    ")"
   ]
  },
  {
   "cell_type": "code",
   "execution_count": 14,
   "id": "f5cc0af7-38a1-4a44-94b6-7a56c207a1ea",
   "metadata": {
    "execution": {
     "iopub.execute_input": "2024-12-02T15:40:04.244221Z",
     "iopub.status.busy": "2024-12-02T15:40:04.243969Z",
     "iopub.status.idle": "2024-12-02T15:40:04.249186Z",
     "shell.execute_reply": "2024-12-02T15:40:04.248586Z",
     "shell.execute_reply.started": "2024-12-02T15:40:04.244202Z"
    }
   },
   "outputs": [
    {
     "data": {
      "text/plain": [
       "'median of training accuracy: 0.704'"
      ]
     },
     "execution_count": 14,
     "metadata": {},
     "output_type": "execute_result"
    }
   ],
   "source": [
    "acc = history.history['acc']\n",
    "f\"median of training accuracy: {np.median(acc):.3f}\""
   ]
  },
  {
   "cell_type": "code",
   "execution_count": 15,
   "id": "4b04f5d3-767f-477b-bf23-39ac76cd48b1",
   "metadata": {
    "execution": {
     "iopub.execute_input": "2024-12-02T15:40:04.250047Z",
     "iopub.status.busy": "2024-12-02T15:40:04.249820Z",
     "iopub.status.idle": "2024-12-02T15:40:04.254791Z",
     "shell.execute_reply": "2024-12-02T15:40:04.254271Z",
     "shell.execute_reply.started": "2024-12-02T15:40:04.250030Z"
    }
   },
   "outputs": [
    {
     "data": {
      "text/plain": [
       "'standard deviation training loss: 0.064'"
      ]
     },
     "execution_count": 15,
     "metadata": {},
     "output_type": "execute_result"
    }
   ],
   "source": [
    "loss = history.history['loss']\n",
    "f\"standard deviation training loss: {np.std(loss):.3f}\""
   ]
  },
  {
   "cell_type": "code",
   "execution_count": 16,
   "id": "d8e29969-cb92-4104-a700-759a2364e039",
   "metadata": {
    "execution": {
     "iopub.execute_input": "2024-12-02T15:40:04.256171Z",
     "iopub.status.busy": "2024-12-02T15:40:04.255569Z",
     "iopub.status.idle": "2024-12-02T15:40:04.259775Z",
     "shell.execute_reply": "2024-12-02T15:40:04.259310Z",
     "shell.execute_reply.started": "2024-12-02T15:40:04.256143Z"
    }
   },
   "outputs": [],
   "source": [
    "train_gen = ImageDataGenerator(\n",
    "    rescale=1./255,\n",
    "    rotation_range=50,\n",
    "    width_shift_range=0.1,\n",
    "    height_shift_range=0.1,\n",
    "    zoom_range=0.1,\n",
    "    horizontal_flip=True,\n",
    "    fill_mode='nearest')"
   ]
  },
  {
   "cell_type": "code",
   "execution_count": 17,
   "id": "281b7cea-e5b7-4c31-bb9e-a3bf4224a55e",
   "metadata": {
    "execution": {
     "iopub.execute_input": "2024-12-02T15:40:04.260548Z",
     "iopub.status.busy": "2024-12-02T15:40:04.260322Z",
     "iopub.status.idle": "2024-12-02T15:40:04.267564Z",
     "shell.execute_reply": "2024-12-02T15:40:04.267076Z",
     "shell.execute_reply.started": "2024-12-02T15:40:04.260532Z"
    }
   },
   "outputs": [],
   "source": [
    "test_gen = ImageDataGenerator(rescale=1./255)"
   ]
  },
  {
   "cell_type": "code",
   "execution_count": 18,
   "id": "01e11d1f-0f35-42a7-9d7e-0411b3d81073",
   "metadata": {
    "execution": {
     "iopub.execute_input": "2024-12-02T15:40:04.268334Z",
     "iopub.status.busy": "2024-12-02T15:40:04.268126Z",
     "iopub.status.idle": "2024-12-02T15:40:04.291819Z",
     "shell.execute_reply": "2024-12-02T15:40:04.291386Z",
     "shell.execute_reply.started": "2024-12-02T15:40:04.268317Z"
    }
   },
   "outputs": [
    {
     "name": "stdout",
     "output_type": "stream",
     "text": [
      "Found 800 images belonging to 2 classes.\n"
     ]
    }
   ],
   "source": [
    "train_ds = train_gen.flow_from_directory(\n",
    "    'data/train',\n",
    "    target_size=(200, 200),\n",
    "    batch_size=20,\n",
    "    class_mode='binary'\n",
    ")"
   ]
  },
  {
   "cell_type": "code",
   "execution_count": 19,
   "id": "411f9e26-33dd-4445-8e61-4d6338526dbf",
   "metadata": {
    "execution": {
     "iopub.execute_input": "2024-12-02T15:40:04.293437Z",
     "iopub.status.busy": "2024-12-02T15:40:04.292347Z",
     "iopub.status.idle": "2024-12-02T15:40:04.304027Z",
     "shell.execute_reply": "2024-12-02T15:40:04.303454Z",
     "shell.execute_reply.started": "2024-12-02T15:40:04.293418Z"
    }
   },
   "outputs": [
    {
     "name": "stdout",
     "output_type": "stream",
     "text": [
      "Found 201 images belonging to 2 classes.\n"
     ]
    }
   ],
   "source": [
    "validation_ds = test_gen.flow_from_directory(\n",
    "    'data/test',\n",
    "    target_size=(200, 200),\n",
    "    batch_size=20,\n",
    "    class_mode='binary'\n",
    ")"
   ]
  },
  {
   "cell_type": "code",
   "execution_count": 20,
   "id": "af30b250-de7e-4fd5-8951-ee62580464e7",
   "metadata": {
    "execution": {
     "iopub.execute_input": "2024-12-02T15:40:04.305038Z",
     "iopub.status.busy": "2024-12-02T15:40:04.304687Z",
     "iopub.status.idle": "2024-12-02T15:41:51.052617Z",
     "shell.execute_reply": "2024-12-02T15:41:51.052053Z",
     "shell.execute_reply.started": "2024-12-02T15:40:04.304992Z"
    }
   },
   "outputs": [
    {
     "name": "stdout",
     "output_type": "stream",
     "text": [
      "Epoch 1/10\n",
      "\u001b[1m40/40\u001b[0m \u001b[32m━━━━━━━━━━━━━━━━━━━━\u001b[0m\u001b[37m\u001b[0m \u001b[1m11s\u001b[0m 269ms/step - acc: 0.6578 - loss: 0.5989 - val_acc: 0.7015 - val_loss: 0.5731\n",
      "Epoch 2/10\n",
      "\u001b[1m40/40\u001b[0m \u001b[32m━━━━━━━━━━━━━━━━━━━━\u001b[0m\u001b[37m\u001b[0m \u001b[1m11s\u001b[0m 265ms/step - acc: 0.6899 - loss: 0.5830 - val_acc: 0.7065 - val_loss: 0.5741\n",
      "Epoch 3/10\n",
      "\u001b[1m40/40\u001b[0m \u001b[32m━━━━━━━━━━━━━━━━━━━━\u001b[0m\u001b[37m\u001b[0m \u001b[1m11s\u001b[0m 263ms/step - acc: 0.7030 - loss: 0.5801 - val_acc: 0.7114 - val_loss: 0.5850\n",
      "Epoch 4/10\n",
      "\u001b[1m40/40\u001b[0m \u001b[32m━━━━━━━━━━━━━━━━━━━━\u001b[0m\u001b[37m\u001b[0m \u001b[1m11s\u001b[0m 260ms/step - acc: 0.7005 - loss: 0.5558 - val_acc: 0.7164 - val_loss: 0.5613\n",
      "Epoch 5/10\n",
      "\u001b[1m40/40\u001b[0m \u001b[32m━━━━━━━━━━━━━━━━━━━━\u001b[0m\u001b[37m\u001b[0m \u001b[1m11s\u001b[0m 261ms/step - acc: 0.6969 - loss: 0.5649 - val_acc: 0.7164 - val_loss: 0.5741\n",
      "Epoch 6/10\n",
      "\u001b[1m40/40\u001b[0m \u001b[32m━━━━━━━━━━━━━━━━━━━━\u001b[0m\u001b[37m\u001b[0m \u001b[1m11s\u001b[0m 263ms/step - acc: 0.7351 - loss: 0.5625 - val_acc: 0.7264 - val_loss: 0.5510\n",
      "Epoch 7/10\n",
      "\u001b[1m40/40\u001b[0m \u001b[32m━━━━━━━━━━━━━━━━━━━━\u001b[0m\u001b[37m\u001b[0m \u001b[1m11s\u001b[0m 272ms/step - acc: 0.7032 - loss: 0.5906 - val_acc: 0.6915 - val_loss: 0.6292\n",
      "Epoch 8/10\n",
      "\u001b[1m40/40\u001b[0m \u001b[32m━━━━━━━━━━━━━━━━━━━━\u001b[0m\u001b[37m\u001b[0m \u001b[1m11s\u001b[0m 263ms/step - acc: 0.7330 - loss: 0.5552 - val_acc: 0.6766 - val_loss: 0.6086\n",
      "Epoch 9/10\n",
      "\u001b[1m40/40\u001b[0m \u001b[32m━━━━━━━━━━━━━━━━━━━━\u001b[0m\u001b[37m\u001b[0m \u001b[1m11s\u001b[0m 266ms/step - acc: 0.7086 - loss: 0.5563 - val_acc: 0.7015 - val_loss: 0.5860\n",
      "Epoch 10/10\n",
      "\u001b[1m40/40\u001b[0m \u001b[32m━━━━━━━━━━━━━━━━━━━━\u001b[0m\u001b[37m\u001b[0m \u001b[1m11s\u001b[0m 265ms/step - acc: 0.7149 - loss: 0.5450 - val_acc: 0.7214 - val_loss: 0.5665\n"
     ]
    }
   ],
   "source": [
    "history = model.fit(\n",
    "    train_ds,\n",
    "    epochs=10,\n",
    "    validation_data=validation_ds\n",
    ")"
   ]
  },
  {
   "cell_type": "code",
   "execution_count": 21,
   "id": "93366bf1-fa25-46bb-a22e-6e09e566358b",
   "metadata": {
    "execution": {
     "iopub.execute_input": "2024-12-02T15:41:51.056241Z",
     "iopub.status.busy": "2024-12-02T15:41:51.055801Z",
     "iopub.status.idle": "2024-12-02T15:41:51.060702Z",
     "shell.execute_reply": "2024-12-02T15:41:51.060103Z",
     "shell.execute_reply.started": "2024-12-02T15:41:51.056221Z"
    }
   },
   "outputs": [
    {
     "data": {
      "text/plain": [
       "'Mean of test loss: 0.58'"
      ]
     },
     "execution_count": 21,
     "metadata": {},
     "output_type": "execute_result"
    }
   ],
   "source": [
    "val_loss_aug = history.history['val_loss']\n",
    "f\"Mean of test loss: {np.mean(val_loss_aug):.2f}\""
   ]
  },
  {
   "cell_type": "code",
   "execution_count": 22,
   "id": "d2f765b8-3149-4c25-9304-cb226d72efc5",
   "metadata": {
    "execution": {
     "iopub.execute_input": "2024-12-02T15:41:51.061506Z",
     "iopub.status.busy": "2024-12-02T15:41:51.061243Z",
     "iopub.status.idle": "2024-12-02T15:41:51.066478Z",
     "shell.execute_reply": "2024-12-02T15:41:51.065960Z",
     "shell.execute_reply.started": "2024-12-02T15:41:51.061486Z"
    }
   },
   "outputs": [
    {
     "data": {
      "text/plain": [
       "'Average of test accuracy: 0.70'"
      ]
     },
     "execution_count": 22,
     "metadata": {},
     "output_type": "execute_result"
    }
   ],
   "source": [
    "val_acc_aug = history.history['val_acc']\n",
    "f\"Average of test accuracy: {np.mean(val_acc_aug[5:10]):.2f}\""
   ]
  }
 ],
 "metadata": {
  "kernelspec": {
   "display_name": "saturn (Python 3)",
   "language": "python",
   "name": "python3"
  },
  "language_info": {
   "codemirror_mode": {
    "name": "ipython",
    "version": 3
   },
   "file_extension": ".py",
   "mimetype": "text/x-python",
   "name": "python",
   "nbconvert_exporter": "python",
   "pygments_lexer": "ipython3",
   "version": "3.12.7"
  }
 },
 "nbformat": 4,
 "nbformat_minor": 5
}
