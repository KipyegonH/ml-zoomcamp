{
 "cells": [
  {
   "cell_type": "code",
   "execution_count": 8,
   "id": "9d4f6ad1-6b2f-4bc6-9b70-d64b98560df6",
   "metadata": {},
   "outputs": [
    {
     "data": {
      "text/plain": [
       "'2.2.3'"
      ]
     },
     "execution_count": 8,
     "metadata": {},
     "output_type": "execute_result"
    }
   ],
   "source": [
    "pd.__version__"
   ]
  },
  {
   "cell_type": "code",
   "execution_count": 9,
   "id": "e35e5f11-a2eb-455d-8313-c7102e92fa3d",
   "metadata": {},
   "outputs": [],
   "source": [
    "import pandas as pd"
   ]
  },
  {
   "cell_type": "code",
   "execution_count": 10,
   "id": "c6dcb3b3-b988-4b2c-bfbd-5fe5794d5d61",
   "metadata": {},
   "outputs": [],
   "source": [
    "df=pd.read_csv(r\"C:\\Users\\hillarik\\Desktop\\MLzoomcamp\\data\\laptops.csv\")"
   ]
  },
  {
   "cell_type": "code",
   "execution_count": 14,
   "id": "b5c61824-7cc8-428d-9e1d-aaa1214ba26f",
   "metadata": {},
   "outputs": [
    {
     "data": {
      "text/plain": [
       "2160"
      ]
     },
     "execution_count": 14,
     "metadata": {},
     "output_type": "execute_result"
    }
   ],
   "source": [
    "len(df)"
   ]
  },
  {
   "cell_type": "code",
   "execution_count": 20,
   "id": "90a355c1-1e2f-4a07-aa40-1db1f4d3ab68",
   "metadata": {},
   "outputs": [
    {
     "data": {
      "text/plain": [
       "Index(['Laptop', 'Status', 'Brand', 'Model', 'CPU', 'RAM', 'Storage',\n",
       "       'Storage type', 'GPU', 'Screen', 'Touch', 'Final Price'],\n",
       "      dtype='object')"
      ]
     },
     "execution_count": 20,
     "metadata": {},
     "output_type": "execute_result"
    }
   ],
   "source": [
    "df.columns\n"
   ]
  },
  {
   "cell_type": "code",
   "execution_count": 21,
   "id": "732eae46-6237-4b84-ba21-0e8597b56087",
   "metadata": {},
   "outputs": [],
   "source": [
    "unique_brands_count = df['Brand'].nunique()"
   ]
  },
  {
   "cell_type": "code",
   "execution_count": 23,
   "id": "9db0b944-9129-469e-860d-d7dc6cecd1af",
   "metadata": {},
   "outputs": [
    {
     "name": "stdout",
     "output_type": "stream",
     "text": [
      "Number of laptop brands: 27\n"
     ]
    }
   ],
   "source": [
    "print(f'Number of laptop brands: {unique_brands_count}')\n"
   ]
  },
  {
   "cell_type": "code",
   "execution_count": 24,
   "id": "ac34a5f2-75c9-47f8-a8aa-caf4be3bf84b",
   "metadata": {},
   "outputs": [
    {
     "name": "stdout",
     "output_type": "stream",
     "text": [
      "Number of columns with missing values: 3\n"
     ]
    }
   ],
   "source": [
    "missing_columns = df.isnull().sum()\n",
    "missing_columns = missing_columns[missing_columns > 0]\n",
    "missing_columns_count = len(missing_columns)\n",
    "print(f'Number of columns with missing values: {missing_columns_count}')\n"
   ]
  },
  {
   "cell_type": "code",
   "execution_count": 32,
   "id": "561d3970-9e75-471e-ad71-0cb182451a18",
   "metadata": {},
   "outputs": [
    {
     "name": "stdout",
     "output_type": "stream",
     "text": [
      "Index(['Laptop', 'Status', 'Brand', 'Model', 'CPU', 'RAM', 'Storage',\n",
      "       'Storage type', 'GPU', 'Screen', 'Touch', 'Final Price'],\n",
      "      dtype='object')\n"
     ]
    }
   ],
   "source": [
    "df.columns = df.columns.str.strip()\n",
    "print(df.columns)\n",
    "df['Final Price'] = pd.to_numeric(df['Final Price'], errors='coerce')\n"
   ]
  },
  {
   "cell_type": "code",
   "execution_count": 35,
   "id": "6cbf28b2-b4d9-46da-bf40-4cfd5df48a3f",
   "metadata": {},
   "outputs": [
    {
     "data": {
      "text/plain": [
       "3936.0"
      ]
     },
     "execution_count": 35,
     "metadata": {},
     "output_type": "execute_result"
    }
   ],
   "source": [
    "dell_notebooks = df[df['Brand'] == 'Dell']\n",
    "max_price = dell_notebooks['Final Price'].max()\n",
    "max_price\n",
    "\n"
   ]
  },
  {
   "cell_type": "code",
   "execution_count": 40,
   "id": "3ff1e6f1-6ab6-41e0-95df-045eb6e8e7c3",
   "metadata": {},
   "outputs": [
    {
     "data": {
      "text/plain": [
       "'No'"
      ]
     },
     "execution_count": 40,
     "metadata": {},
     "output_type": "execute_result"
    }
   ],
   "source": [
    "initial_median = df['Screen'].median()\n",
    "most_frequent_value = df['Screen'].mode()[0]\n",
    "df['Screen'].fillna(most_frequent_value, inplace=True)\n",
    "new_median = df['Screen'].median()\n",
    "\"Yes\" if initial_median != new_median else \"No\"\n"
   ]
  },
  {
   "cell_type": "code",
   "execution_count": 46,
   "id": "3aa18308-af3e-49f3-8292-e69f2e65e799",
   "metadata": {},
   "outputs": [
    {
     "data": {
      "text/plain": [
       "91.3"
      ]
     },
     "execution_count": 46,
     "metadata": {},
     "output_type": "execute_result"
    }
   ],
   "source": [
    "import numpy as np\n",
    "innjoo_laptops = df[df['Brand'] == 'Innjoo']\n",
    "X = innjoo_laptops[['RAM', 'Storage', 'Screen']].to_numpy()\n",
    "XTX = X.T @ X\n",
    "XTX_inv = np.linalg.inv(XTX)\n",
    "y = np.array([1100, 1300, 800, 900, 1000, 1100])\n",
    "w = XTX_inv @ X.T @ y\n",
    "rounded_result_sum = np.sum(w)\n",
    "rounded_result_sum = round(result_sum, 1)\n",
    "rounded_result_sum\n",
    "\n"
   ]
  },
  {
   "cell_type": "code",
   "execution_count": null,
   "id": "31a59898-7c21-4edc-aac2-9a98360a5e1e",
   "metadata": {},
   "outputs": [],
   "source": []
  }
 ],
 "metadata": {
  "kernelspec": {
   "display_name": "Python 3 (ipykernel)",
   "language": "python",
   "name": "python3"
  },
  "language_info": {
   "codemirror_mode": {
    "name": "ipython",
    "version": 3
   },
   "file_extension": ".py",
   "mimetype": "text/x-python",
   "name": "python",
   "nbconvert_exporter": "python",
   "pygments_lexer": "ipython3",
   "version": "3.11.8"
  }
 },
 "nbformat": 4,
 "nbformat_minor": 5
}
